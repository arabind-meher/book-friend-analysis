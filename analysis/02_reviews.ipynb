{
 "cells": [
  {
   "metadata": {},
   "cell_type": "markdown",
   "source": "# Reviews",
   "id": "1ac1be1a329ecde4"
  },
  {
   "cell_type": "code",
   "id": "initial_id",
   "metadata": {
    "collapsed": true,
    "ExecuteTime": {
     "end_time": "2025-08-10T17:54:08.203968Z",
     "start_time": "2025-08-10T17:54:08.077310Z"
    }
   },
   "source": [
    "import re\n",
    "import html\n",
    "from collections import defaultdict\n",
    "from typing import Dict, List\n",
    "\n",
    "from langdetect import detect\n",
    "from langdetect.lang_detect_exception import LangDetectException\n",
    "from tqdm import tqdm\n",
    "\n",
    "from db import MongoDB\n",
    "from models import User, BookRating"
   ],
   "outputs": [],
   "execution_count": 1
  },
  {
   "metadata": {
    "ExecuteTime": {
     "end_time": "2025-08-10T17:54:08.546656Z",
     "start_time": "2025-08-10T17:54:08.309533Z"
    }
   },
   "cell_type": "code",
   "source": [
    "mongo = MongoDB().connect()\n",
    "User.ensure_indexes(mongo)"
   ],
   "id": "cb1cbc2fe725a686",
   "outputs": [],
   "execution_count": 2
  },
  {
   "metadata": {
    "ExecuteTime": {
     "end_time": "2025-08-10T17:54:08.873452Z",
     "start_time": "2025-08-10T17:54:08.552166Z"
    }
   },
   "cell_type": "code",
   "source": [
    "reviews_raw_collection = mongo.get_collection(\"reviews_raw\")\n",
    "reviews_dict_list = list(reviews_raw_collection.find({}))"
   ],
   "id": "998513e37f9013ca",
   "outputs": [],
   "execution_count": 3
  },
  {
   "metadata": {
    "ExecuteTime": {
     "end_time": "2025-08-10T17:54:08.883327Z",
     "start_time": "2025-08-10T17:54:08.880413Z"
    }
   },
   "cell_type": "code",
   "source": [
    "def clean_for_sentiment(text: str) -> str | None:\n",
    "    try:\n",
    "        if len(text) < 20 or detect(text) != \"en\":\n",
    "            return None\n",
    "    except LangDetectException:\n",
    "        return None\n",
    "    text = html.unescape(text)\n",
    "    text = re.sub(r\"http\\S+|www\\S+|@\\S+|#\\S+\", \" \", text)\n",
    "    text = re.sub(r\"[^a-zA-Z0-9\\s.!?']\", \" \", text)\n",
    "    text = re.sub(r\"\\s+\", \" \", text).strip().lower()\n",
    "    return text if len(text) >= 5 else None"
   ],
   "id": "be445febb884a8b8",
   "outputs": [],
   "execution_count": 4
  },
  {
   "metadata": {
    "ExecuteTime": {
     "end_time": "2025-08-10T17:54:08.905034Z",
     "start_time": "2025-08-10T17:54:08.901903Z"
    }
   },
   "cell_type": "code",
   "source": [
    "def clean_for_summarization(text: str) -> str | None:\n",
    "    try:\n",
    "        if len(text) < 20 or detect(text) != \"en\":\n",
    "            return None\n",
    "    except LangDetectException:\n",
    "        return None\n",
    "    text = html.unescape(text)\n",
    "    text = re.sub(r\"http\\S+|www\\S+\", \" \", text)\n",
    "    text = re.sub(r\"[^a-zA-Z0-9\\s.,!?'\\\"]\", \" \", text)\n",
    "    text = re.sub(r\"\\s+\", \" \", text).strip().lower()\n",
    "    return text if len(text) >= 20 else None"
   ],
   "id": "472361506f6a433b",
   "outputs": [],
   "execution_count": 5
  },
  {
   "metadata": {
    "ExecuteTime": {
     "end_time": "2025-08-10T17:54:08.920126Z",
     "start_time": "2025-08-10T17:54:08.918148Z"
    }
   },
   "cell_type": "code",
   "source": [
    "reviews: List[dict] = []\n",
    "users_cache: Dict[str, User] = {}\n",
    "pending_ratings: Dict[str, List[BookRating]] = defaultdict(list)"
   ],
   "id": "b6800463b067845a",
   "outputs": [],
   "execution_count": 6
  },
  {
   "metadata": {
    "ExecuteTime": {
     "end_time": "2025-08-10T17:55:50.807259Z",
     "start_time": "2025-08-10T17:54:08.927698Z"
    }
   },
   "cell_type": "code",
   "source": [
    "for reviews_dict in tqdm(reviews_dict_list):  # remove [:1] to process all\n",
    "    review_doc = {\n",
    "        \"_id\": reviews_dict[\"_id\"],\n",
    "        \"sentiment_text\": [],\n",
    "        \"summarization_text\": [],\n",
    "    }\n",
    "\n",
    "    book_id = reviews_dict[\"_id\"]\n",
    "    rating_sum = 0.0\n",
    "    rating_count = 0\n",
    "\n",
    "    for _, reviews_data in reviews_dict.get(\"_reviews\", {}).items():\n",
    "        # --- accumulate featured rating ---\n",
    "        rating = reviews_data.get(\"rating\")\n",
    "        if isinstance(rating, (int, float)):\n",
    "            rating_sum += float(rating)\n",
    "            rating_count += 1\n",
    "\n",
    "        # --- collect ratings to append for each user ---\n",
    "        username = reviews_data.get(\"username\")\n",
    "        if username and isinstance(rating, (int, float)):\n",
    "            # get or create user (cached -> DB -> new)\n",
    "            user = users_cache.get(username)\n",
    "            if user is None:\n",
    "                found = User.get_by_username(mongo, username)\n",
    "                user = found if found else User.create(mongo, username)\n",
    "                users_cache[username] = user\n",
    "\n",
    "            pending_ratings[username].append(\n",
    "                BookRating(book_id=str(book_id), rating=float(rating))\n",
    "            )\n",
    "\n",
    "        # --- clean texts ---\n",
    "        raw_text = reviews_data.get(\"review\", \"\")\n",
    "        sent_text = clean_for_sentiment(raw_text)\n",
    "        if sent_text:\n",
    "            review_doc[\"sentiment_text\"].append(sent_text)\n",
    "\n",
    "        summ_text = clean_for_summarization(raw_text)\n",
    "        if summ_text:\n",
    "            review_doc[\"summarization_text\"].append(summ_text)\n",
    "\n",
    "    # --- featured rating (guard divide-by-zero) ---\n",
    "    review_doc[\"featured_rating\"] = round(rating_sum / rating_count, 2) if rating_count else None\n",
    "    reviews.append(review_doc)"
   ],
   "id": "44e482cd90c5a166",
   "outputs": [
    {
     "name": "stderr",
     "output_type": "stream",
     "text": [
      "100%|██████████| 228/228 [01:41<00:00,  2.24it/s]\n"
     ]
    }
   ],
   "execution_count": 7
  },
  {
   "metadata": {
    "ExecuteTime": {
     "end_time": "2025-08-10T17:55:53.320508Z",
     "start_time": "2025-08-10T17:55:50.863193Z"
    }
   },
   "cell_type": "code",
   "source": [
    "# --- append ratings to each user in one DB call per user ---\n",
    "for username, ratings_list in pending_ratings.items():\n",
    "    user = users_cache[username]\n",
    "    user.add_ratings(mongo, ratings_list)"
   ],
   "id": "e655547c83a11484",
   "outputs": [],
   "execution_count": 8
  },
  {
   "metadata": {
    "ExecuteTime": {
     "end_time": "2025-08-10T17:55:54.157216Z",
     "start_time": "2025-08-10T17:55:53.361401Z"
    }
   },
   "cell_type": "code",
   "source": [
    "reviews_collection = mongo.get_collection(\"reviews_clean\")\n",
    "reviews_collection.insert_many(reviews)"
   ],
   "id": "44a5839aa05ec479",
   "outputs": [
    {
     "data": {
      "text/plain": [
       "InsertManyResult(['73f65a70-8825-5401-bcce-2313da0cc6f8', 'e940f1b3-d333-50b7-a2b6-b95603134438', '74ec4ed6-0c42-5425-86bf-51af8793a280', '8368087f-946e-5eb0-b630-a614124d550f', 'f5c32f05-2e3c-5eac-baec-7504adf01a18', 'ec3cd213-bfdb-5356-ac43-15483385b247', 'ae52e56a-0ee4-506d-94f5-6d51d55ff5e3', 'a8664b84-fe0d-5741-8e2f-3e6f5260b871', 'f516548a-b783-5e8d-89f5-80dee74ad7b7', '71400d60-1f3b-5134-808c-bc00234b128c', 'aab400eb-5caa-55c2-b5d6-5376888a4c03', '6be338b2-4f47-5437-9ffa-0b92e5cb8fbf', '0fbce2e5-73d8-53c8-aa32-c3ea066c0d51', '0dc7fa81-0b51-539e-a16a-8ff440e0511d', '5f627705-6291-523e-be78-13220dc0e91e', '7374f7d8-bdc4-5705-b393-cf6741e29a65', 'ba01d28e-b0f1-53a7-b8d2-9d808d3a75c9', '30da9c11-f736-5f41-9166-fc65f663e2bb', '7eec2f86-f544-569f-94ec-17a001daa5f1', '3d9a1a52-057b-5f01-940b-5115bb7d5a1f', '75391d1b-b2d3-50cc-88c5-9e345d654a41', 'a94cd22b-04f2-58ea-8248-0b3ecceebbf6', 'a934a030-087d-51c6-9b9d-2ca76fe92349', '34cb6464-45cc-56e3-8f1d-42e5e5c734af', '25627f1c-e442-5f39-98ef-c32b2adecc23', '0475ef14-b746-5d43-a242-ec8f04e13a5b', 'bcf81100-018e-5bac-a6de-713052ee70f2', '6375049c-934f-5f09-b7b8-ae4fd744c1b4', 'fc548c16-3401-5920-99ba-a4effe34f36c', '5cc05492-0856-53ad-be2a-28e9f6223563', 'b0640f4b-4b70-5ad4-a693-4f5c91273daf', 'df50dd19-bd8d-5269-87d7-d49b734ae373', 'c8189ca7-0ae9-5bd6-8ad2-e83aecd16d01', '11f795cc-91cc-5bbc-9b5e-a20c5d10ce66', '6fe2ed2b-e6ce-5a1e-9842-b91ca2a98035', '59592a0d-fadd-5782-861b-0c8b5301c9f1', 'dd08d6bf-811a-5acf-9e9c-ac1f19bfd5d7', '9797e8db-9a5f-54f4-81e3-d384ce7f201b', '3c27ee92-f94d-5e93-a299-c497341ba5f4', 'aa0b3eaf-2573-591f-b7ca-8ffac210ade5', '353c2514-bb17-5258-a736-e40ac8e93200', 'c494df84-f550-5045-ab61-804e2ed5d3f5', '971cda7f-8c89-5b24-8e1c-16421b80d941', '1aeed9a1-ded0-5c8b-a662-b1b68cafcfce', '46a9aa3d-9788-50f4-a61e-d9fa8ea5191b', 'e2d08557-0147-5b9d-82cd-384e5016df83', '3b3e48ec-0248-5faa-9b3b-8d47677daa85', 'e63e3bfe-0687-5a02-9032-48a9534e57fe', 'd62fb4f1-91cb-5fc5-9309-3f43f177a720', 'c8b04107-70cd-5c52-b2b2-29653a7259c2', 'c85c31af-111b-5749-81a8-a015667ea65e', 'a9a09a71-3af9-5d8f-9a70-46de3848aeaa', '6df2afad-d63c-59f4-bb45-5c33ab11555d', '3a10f5ff-9dae-5844-97ad-c0273cf84f09', 'ffa6a3b5-7ae7-543c-9a45-591eccb594ad', '8fb2bec4-4cd7-5e67-8acc-32cdfa780287', 'e96b3e47-5a70-5a2f-b1cd-bc3ea9fcd26d', '984ad52a-7a3f-5b53-bd8f-c04a2357a230', 'ae1acb52-77dc-57e7-bbc8-d2bf102d451c', '89733ae3-181e-5304-a4fb-4bbc2f41edd6', '349cbf1c-08e0-575c-9703-a82b41c70776', '47b5f793-1395-5466-8ba8-fc417533de6b', '541c78b6-59f0-5b14-9d3e-6014f0c69486', 'e03ae8cc-686f-5f78-a0c2-1e79e4b739f9', '682ce7d1-3dfa-5b6d-8f0f-7423673abf42', 'bb5cab81-f196-5c76-bcb7-67de3d4d40b1', 'd3e35dd1-e481-5929-bbcf-f62d06e24ab1', 'd4a67408-69ff-5d59-8f24-57afa98de54a', '95e5c107-33c1-5d8c-805a-83f0ebaa265e', 'ec38c20d-192d-530a-8fa9-a8f33ebb9228', 'c0e6ed03-ab62-5817-976c-92cf694b1714', '481a89e3-2ba2-5e1b-b026-8dac66692efa', '3b7fe51d-523d-5ba2-afe4-23b9017fef0a', '655eb230-b962-5000-9093-7dd22fc0d6fa', 'e5a292b0-beda-514d-b29f-8800893c8347', '06322887-b3d6-5950-aefe-ce2e7dce789d', '5c099649-db24-532f-b0f2-2256e961d53a', 'd1b93763-39f1-53ab-bd43-7465188f77af', '9ca8c76f-d227-57a3-a697-64bf5216d20a', '62b8e433-5f49-5970-86c0-1248454bcdbb', '79024dfe-a36e-5c68-b865-019d8ea3783c', '3cd62df8-08e2-51f6-ab1a-d57301d8ec56', '50fd8286-8b97-5769-a1b6-15a5152f6744', 'd57572f6-0961-5d84-b5c5-4125c7742ef0', 'd6371075-c3f5-58d8-879b-3cd358e831e7', '71d403f8-c92b-5cd3-833f-99ab91a6b0ab', '0a19826b-c89e-5157-a627-c882ac5f311d', 'dcc01da2-3e50-5a1d-8fdb-ea0236d17a8b', '494814e1-7b54-5e0a-b378-16ff35e7c432', '75d64530-c079-5150-98b8-4e28097e5b77', 'ef7988ee-fbae-53ec-9201-3475897178ee', 'c3ce94ed-5125-5a47-bf2e-e181fc8075f2', '41888095-e74c-5d4b-acc9-acddb9d06ea3', 'a8eaf3ed-84e4-58bc-ae39-af9dca5b3cdc', '2c7344ee-1a9f-54bc-aee8-cd67b0c4d7da', 'ecbd271a-4e1f-5f17-a4d0-841c858e7521', '7d91698a-3fcd-5496-b980-a7f14be16ec0', '05e7e4b5-4994-5636-b509-0dfbd21310fa', '2701e088-ae4b-53eb-b65f-0ed85521e6ef', '2c798146-47d1-5ba3-9004-c873b5f5254e', 'f3ad443a-6363-5bfa-b952-6fc31b916b89', 'd65bcbf9-d7a9-56f0-a1e0-063b99581a54', '91fb8262-bde2-516e-8344-d32e669d1bd4', '0f73868a-ebaf-5f52-9d27-ca9c54d5dcb5', '653fc07a-fbab-53ca-8a11-d4291e4a0aa3', 'e096fd67-196a-5d7c-8c75-955f8b6bca73', 'e2c94404-7358-5b2a-984d-c99a9f08aa6e', '1d9a16df-a2e1-5866-8404-5faa299e9559', '1c665011-a757-5df2-8121-729dea28bded', 'f361d8bb-cde3-5caf-ba55-82a57e4ccf77', '9929ad23-b431-5c66-9aa4-79fed6b73eb0', '35827405-d879-5d97-a35b-f19a9781d06d', '3e950b11-229d-5ffb-a7b6-b8e5a539451a', '17e93911-bf20-5ac7-9125-e44b929ddcd1', '5757af0c-ba59-5e8e-a44e-c75c34918541', '365f7eac-8899-556c-9a21-f641569ba2a0', 'c292a816-cb9c-59c7-afda-c7ada5cd28d0', '3f740198-c720-5830-894b-622ecf4abf5a', 'd61ae334-3fde-567b-9dfa-40b1c97ec438', 'ae69c487-1219-5398-81e2-b829bc2f61cc', '1867bfd3-4e00-56b1-b751-835d48845aae', 'ca139680-153a-5e27-a2d3-49e4bd474c85', 'c926052d-491d-5870-9cfd-544ce0f95a8f', '7d723e89-57a6-50aa-9f8f-8853303c73d5', '380d5288-2db2-5665-9835-5e9de64b89fc', 'b57ae8fb-9fa6-5c9a-9549-95e4b8a2bae3', '03510a99-652f-5fb9-bba2-9aef15852980', '95440970-46d0-58e7-98fc-87fef40aa344', 'd939c4c6-fee1-5484-84bb-6049b6934352', '47d5ed10-797b-54b9-bf90-309f3797166b', 'cbfb590b-7582-5983-8a0f-0b13aa2f1044', 'fe401bec-6d9e-5d9d-9cd6-5dfb0d2d1349', 'bebc85cc-a35d-54b3-8766-a06e20057544', '5aec6ab2-74ef-5584-8cba-b06a6c72afd4', 'feb0b0e2-1196-55ba-b5a1-b33a9c5d9650', '9968fc4a-8339-5c08-8c7a-85142ffce3f7', '4f1cd56f-fde5-5c43-a737-df6ac2c64827', '16d8af4c-5328-5e63-9815-1fd7056373c4', '38fc519b-b364-58c5-bc34-cfc83e2ab7c6', '7b05e75a-7e6d-59ea-8972-edc4c9da9d8f', '2c5a1822-2c9d-5a76-82cb-b3d8ed659de9', 'ef8d3b76-dfe1-5022-b2d3-d9af5e33b895', '90f09efb-ad20-5cc4-805f-f84cea9cf39d', 'c1aa1103-421e-58d0-8768-a99b14d80c9e', '09c3dc6f-65eb-566a-b991-6f04f243693c', '9e86c50c-8712-5730-b87a-6aa904d0089a', 'a3b1de1c-70e6-5d0d-9d67-17c81304eb9b', '7dd2f4f7-3110-5e47-bc29-c10ea981fbe6', '81941865-0659-5bb5-abb0-125439b95654', '094bb11d-ba9e-5a7e-80ca-75e94297556a', '426177e2-8662-508b-948e-833ab428be75', 'f9dee605-1a49-5bc7-ba35-9ec305f2d117', '1fbcfd96-e00f-516e-87e0-a4f428a61bc2', 'e11df6d9-4c2c-5073-88a6-d148b66ad9e7', '02990ce3-9bc2-5f2d-b7a6-14927621a9ba', 'c7c7bddc-4abb-54e6-8f20-8616e003c7d9', 'a66323e1-cbba-5797-91e0-ecd0a8e7d231', '070e6e57-0bb4-5dd6-ac87-0583d7dc89e6', '89ba0e40-1db0-5d02-ad17-419f8c73cd71', '6a19d72b-47cf-5cd9-930a-85f77e2bf91f', '25e3fbd8-ee2b-586a-8907-6665e220bc9f', '5124c478-89f3-5563-9c9d-1daa6e6c0fd6', '40f81a9b-8ed5-53d5-9afa-a5ba1e297f76', 'c189fabc-2e2c-5884-bd14-39097936379f', '047dea82-14ce-5849-b03c-cedcadfff4b8', '57ef091a-a6e1-5dde-82a0-eac301345617', 'd93e0e28-e6b5-5b55-bb02-f27dc5724ed7', '54447d04-388b-59a1-9b32-3d18d76a8af4', '38d1ef43-6f4c-5db9-bf49-1799c86574d8', '4e2f79a3-2394-5b91-8eb7-d66f734cf2e6', '2fc6140c-5ae1-5667-9249-dd2c16d53727', '95778901-b1c5-53fd-a145-09eaada32615', '4c484209-9097-5be5-aa03-cd288a634ab2', 'cf4a64f8-dc3b-5b66-890f-642f179d7882', '0f1fbd7c-05ed-5b00-bb7b-721ef777cf1a', '574d222c-6ee1-5726-9aa6-60a0248ecfad', 'c25459c0-ed53-54d4-b933-e9873462cc38', '4dbef9e3-1645-5f60-b95c-ddfef9010db8', 'd10baf86-8b02-5ed8-8184-605a075f9e27', '0e3ec99d-7b46-5968-9031-bf6a52cd0a30', '9ab5708d-e72c-50cf-baa8-de3b397b28b7', 'fd542d43-2f1b-5728-8c3f-60675b4df013', '26f04372-da86-5776-9922-17936a1f5f8a', '324e935e-fb13-59cd-9895-07d5985ae7f4', '0213d7d9-fd8f-509f-a237-b38780d4fc4e', '685b7381-7c36-5d5c-9cfb-6d239c101ccd', 'e2599488-9dfa-5f2e-be11-8efff1fea2f9', '70cc2074-2f45-5763-a982-294e37ec9dfd', '295d52f1-d31c-51ea-9224-f5a9b40f8376', '0e6ded39-3233-5da6-acb2-4f093ad22360', '95d3c576-6805-523f-a168-f041f24d60a5', '3355f90e-0271-509b-a542-78e9f9debcde', '645ad91e-4dce-5c86-8d23-8aa983161fee', 'bdded424-54c6-5fcf-9e30-a1ca589c5dfa', '3a23691a-f428-5656-9045-15fa04c4f54e', '0bd5afce-9943-50e9-9a3a-38a4ff2266a9', 'ebc5c7c3-7f56-5afb-927b-6b46bd40edd2', '538c1698-0d6c-503b-a140-4ec5c1eb7253', '1cb488ed-b345-52c1-9a09-6c67b19414cf', 'fd614c49-2c6c-582b-8a99-ee65ecced8ed', '014fe2f3-08f3-57c1-beed-ebd7df6e9bdf', '33b08c2a-7ede-5e07-bb76-7269ebbd2b52', '68312397-0848-5880-ad79-1b44028c3e12', 'a9752a63-e9f7-595f-ac6c-a80837c466a2', 'ac4fe8ad-cbee-55f6-9614-50e23722849f', '508732a1-f070-576f-bda8-8301584d02ed', '96473cf9-a3e5-5a1d-8bbc-14f08792109a', 'd12a95e3-0414-55d2-998b-95a1ff94c475', 'f9328d56-18fa-523d-b6e9-e25fa1e63e16', '0d99caea-b416-5a17-a041-138e20d26f56', 'e1ffb4d2-7dba-5363-a433-474733180be7', '4dabef0d-3315-54df-aa4b-dab820108d19', 'f83fd5ad-db2a-5f42-8335-43f0c0883297', 'be8a75c7-7fa6-56e5-a4c2-1c7b5c1efc4b', 'ea5591ab-5f95-5d78-8bde-12681074a93b', '971952b9-00b9-52b4-8c4d-491307005d5e', 'bb9067c7-077a-5ef0-b972-045dbfb6ddda', '87490c06-ae7f-5da9-ba15-680fc32e9fff', 'aa2727d9-41cb-5f08-a1d1-02d2b478f6be', '9a97e3c4-b4e7-5016-961d-1fc5d49f5ee8', 'e6311ac7-90d2-58c9-84a0-feeaabc95eed', 'a6c6a20d-88b5-5d73-b443-ad5a98bdf3eb', 'e4af4c6b-91ef-5520-93e7-46cc39d0ca1f', 'f9370941-ebfe-565e-9e43-57511a3fd7eb', 'f5373d0e-8b58-5eab-80f8-730e46bd1e99', '1d42bbe3-a80d-5e3a-a732-c7ffd9019b09', 'f6517d5a-a3aa-5fc1-9a28-64df128e5d46', '24d071f9-bddd-5219-a0dc-fb538ff644c9'], acknowledged=True)"
      ]
     },
     "execution_count": 9,
     "metadata": {},
     "output_type": "execute_result"
    }
   ],
   "execution_count": 9
  },
  {
   "metadata": {},
   "cell_type": "markdown",
   "source": "---",
   "id": "44a986aa23c75f32"
  }
 ],
 "metadata": {
  "kernelspec": {
   "display_name": "Python 3",
   "language": "python",
   "name": "python3"
  },
  "language_info": {
   "codemirror_mode": {
    "name": "ipython",
    "version": 2
   },
   "file_extension": ".py",
   "mimetype": "text/x-python",
   "name": "python",
   "nbconvert_exporter": "python",
   "pygments_lexer": "ipython2",
   "version": "2.7.6"
  }
 },
 "nbformat": 4,
 "nbformat_minor": 5
}
