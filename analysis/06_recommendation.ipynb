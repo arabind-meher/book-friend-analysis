{
 "cells": [
  {
   "metadata": {},
   "cell_type": "markdown",
   "source": "# Recommendation System",
   "id": "2c0a6e334f60ff5e"
  },
  {
   "cell_type": "code",
   "id": "initial_id",
   "metadata": {
    "collapsed": true,
    "ExecuteTime": {
     "end_time": "2025-08-11T19:52:36.469843Z",
     "start_time": "2025-08-11T19:52:35.685083Z"
    }
   },
   "source": [
    "import pandas as pd\n",
    "import numpy as np\n",
    "from collections import defaultdict\n",
    "from sklearn.feature_extraction.text import TfidfVectorizer\n",
    "from sklearn.metrics.pairwise import cosine_similarity\n",
    "\n",
    "from db.postgres import PostgresDB"
   ],
   "outputs": [],
   "execution_count": 1
  },
  {
   "metadata": {
    "ExecuteTime": {
     "end_time": "2025-08-11T19:52:36.569658Z",
     "start_time": "2025-08-11T19:52:36.566755Z"
    }
   },
   "cell_type": "code",
   "source": "pg = PostgresDB()",
   "id": "be253bbabcddf028",
   "outputs": [],
   "execution_count": 2
  },
  {
   "metadata": {},
   "cell_type": "markdown",
   "source": "### Load data from tables",
   "id": "662c6314b960a738"
  },
  {
   "metadata": {
    "ExecuteTime": {
     "end_time": "2025-08-11T19:52:36.621541Z",
     "start_time": "2025-08-11T19:52:36.580186Z"
    }
   },
   "cell_type": "code",
   "source": [
    "books_df = pd.DataFrame(pg.fetchall(\"\"\"\n",
    "    SELECT id, title, author, year, description, reviews_count, rating, featured_rating, sentiment_score\n",
    "    FROM library.books\n",
    "\"\"\"), columns=[\"id\", \"title\", \"author\", \"year\", \"description\", \"reviews_count\", \"rating\", \"featured_rating\", \"sentiment_score\"])\n",
    "\n",
    "numeric_cols = [\"reviews_count\", \"rating\", \"featured_rating\", \"sentiment_score\"]\n",
    "books_df[numeric_cols] = books_df[numeric_cols].astype(float)\n",
    "\n",
    "books_df.head()"
   ],
   "id": "d1a468299d4ca4f8",
   "outputs": [
    {
     "data": {
      "text/plain": [
       "                                     id                        title  \\\n",
       "0  73f65a70-8825-5401-bcce-2313da0cc6f8         Crime and Punishment   \n",
       "1  e940f1b3-d333-50b7-a2b6-b95603134438  Love in the Time of Cholera   \n",
       "2  74ec4ed6-0c42-5425-86bf-51af8793a280               Mansfield Park   \n",
       "3  8368087f-946e-5eb0-b630-a614124d550f                   Siddhartha   \n",
       "4  f5c32f05-2e3c-5eac-baec-7504adf01a18          The Thirteenth Tale   \n",
       "\n",
       "                   author  year  \\\n",
       "0       Fyodor Dostoevsky  1866   \n",
       "1  Gabriel García Márquez  1985   \n",
       "2             Jane Austen  1814   \n",
       "3           Hermann Hesse  1922   \n",
       "4       Diane Setterfield  2006   \n",
       "\n",
       "                                         description  reviews_count  rating  \\\n",
       "0  Fyodor Dostoevsky's Crime and Punishment is on...          521.0    4.25   \n",
       "1  In their youth, Florentino Ariza and Fermina D...          423.0    3.95   \n",
       "2  Mansfield Park is the study of three families-...          373.0    3.84   \n",
       "3  Hermann Hesse wrote Siddhartha after he travel...          398.0    3.95   \n",
       "4  When her health begins failing, the mysterious...          915.0    3.99   \n",
       "\n",
       "   featured_rating  sentiment_score  \n",
       "0             4.35             4.26  \n",
       "1             3.67             3.63  \n",
       "2             3.95             3.73  \n",
       "3             3.85             3.99  \n",
       "4             4.26             4.69  "
      ],
      "text/html": [
       "<div>\n",
       "<style scoped>\n",
       "    .dataframe tbody tr th:only-of-type {\n",
       "        vertical-align: middle;\n",
       "    }\n",
       "\n",
       "    .dataframe tbody tr th {\n",
       "        vertical-align: top;\n",
       "    }\n",
       "\n",
       "    .dataframe thead th {\n",
       "        text-align: right;\n",
       "    }\n",
       "</style>\n",
       "<table border=\"1\" class=\"dataframe\">\n",
       "  <thead>\n",
       "    <tr style=\"text-align: right;\">\n",
       "      <th></th>\n",
       "      <th>id</th>\n",
       "      <th>title</th>\n",
       "      <th>author</th>\n",
       "      <th>year</th>\n",
       "      <th>description</th>\n",
       "      <th>reviews_count</th>\n",
       "      <th>rating</th>\n",
       "      <th>featured_rating</th>\n",
       "      <th>sentiment_score</th>\n",
       "    </tr>\n",
       "  </thead>\n",
       "  <tbody>\n",
       "    <tr>\n",
       "      <th>0</th>\n",
       "      <td>73f65a70-8825-5401-bcce-2313da0cc6f8</td>\n",
       "      <td>Crime and Punishment</td>\n",
       "      <td>Fyodor Dostoevsky</td>\n",
       "      <td>1866</td>\n",
       "      <td>Fyodor Dostoevsky's Crime and Punishment is on...</td>\n",
       "      <td>521.0</td>\n",
       "      <td>4.25</td>\n",
       "      <td>4.35</td>\n",
       "      <td>4.26</td>\n",
       "    </tr>\n",
       "    <tr>\n",
       "      <th>1</th>\n",
       "      <td>e940f1b3-d333-50b7-a2b6-b95603134438</td>\n",
       "      <td>Love in the Time of Cholera</td>\n",
       "      <td>Gabriel García Márquez</td>\n",
       "      <td>1985</td>\n",
       "      <td>In their youth, Florentino Ariza and Fermina D...</td>\n",
       "      <td>423.0</td>\n",
       "      <td>3.95</td>\n",
       "      <td>3.67</td>\n",
       "      <td>3.63</td>\n",
       "    </tr>\n",
       "    <tr>\n",
       "      <th>2</th>\n",
       "      <td>74ec4ed6-0c42-5425-86bf-51af8793a280</td>\n",
       "      <td>Mansfield Park</td>\n",
       "      <td>Jane Austen</td>\n",
       "      <td>1814</td>\n",
       "      <td>Mansfield Park is the study of three families-...</td>\n",
       "      <td>373.0</td>\n",
       "      <td>3.84</td>\n",
       "      <td>3.95</td>\n",
       "      <td>3.73</td>\n",
       "    </tr>\n",
       "    <tr>\n",
       "      <th>3</th>\n",
       "      <td>8368087f-946e-5eb0-b630-a614124d550f</td>\n",
       "      <td>Siddhartha</td>\n",
       "      <td>Hermann Hesse</td>\n",
       "      <td>1922</td>\n",
       "      <td>Hermann Hesse wrote Siddhartha after he travel...</td>\n",
       "      <td>398.0</td>\n",
       "      <td>3.95</td>\n",
       "      <td>3.85</td>\n",
       "      <td>3.99</td>\n",
       "    </tr>\n",
       "    <tr>\n",
       "      <th>4</th>\n",
       "      <td>f5c32f05-2e3c-5eac-baec-7504adf01a18</td>\n",
       "      <td>The Thirteenth Tale</td>\n",
       "      <td>Diane Setterfield</td>\n",
       "      <td>2006</td>\n",
       "      <td>When her health begins failing, the mysterious...</td>\n",
       "      <td>915.0</td>\n",
       "      <td>3.99</td>\n",
       "      <td>4.26</td>\n",
       "      <td>4.69</td>\n",
       "    </tr>\n",
       "  </tbody>\n",
       "</table>\n",
       "</div>"
      ]
     },
     "execution_count": 3,
     "metadata": {},
     "output_type": "execute_result"
    }
   ],
   "execution_count": 3
  },
  {
   "metadata": {
    "ExecuteTime": {
     "end_time": "2025-08-11T19:52:36.687968Z",
     "start_time": "2025-08-11T19:52:36.642450Z"
    }
   },
   "cell_type": "code",
   "source": [
    "ratings_df = pd.DataFrame(pg.fetchall(\"\"\"\n",
    "    SELECT user_id, book_id, rating\n",
    "    FROM library.rating\n",
    "\"\"\"), columns=[\"user_id\", \"book_id\", \"rating\"])\n",
    "\n",
    "ratings_df.head()"
   ],
   "id": "d8c3b3769c122cda",
   "outputs": [
    {
     "data": {
      "text/plain": [
       "                                user_id                               book_id  \\\n",
       "0  544c5233-704a-44c3-94ce-865c84d8c09e  73f65a70-8825-5401-bcce-2313da0cc6f8   \n",
       "1  544c5233-704a-44c3-94ce-865c84d8c09e  e96b3e47-5a70-5a2f-b1cd-bc3ea9fcd26d   \n",
       "2  544c5233-704a-44c3-94ce-865c84d8c09e  d1b93763-39f1-53ab-bd43-7465188f77af   \n",
       "3  544c5233-704a-44c3-94ce-865c84d8c09e  9929ad23-b431-5c66-9aa4-79fed6b73eb0   \n",
       "4  544c5233-704a-44c3-94ce-865c84d8c09e  426177e2-8662-508b-948e-833ab428be75   \n",
       "\n",
       "   rating  \n",
       "0       5  \n",
       "1       3  \n",
       "2       5  \n",
       "3       3  \n",
       "4       5  "
      ],
      "text/html": [
       "<div>\n",
       "<style scoped>\n",
       "    .dataframe tbody tr th:only-of-type {\n",
       "        vertical-align: middle;\n",
       "    }\n",
       "\n",
       "    .dataframe tbody tr th {\n",
       "        vertical-align: top;\n",
       "    }\n",
       "\n",
       "    .dataframe thead th {\n",
       "        text-align: right;\n",
       "    }\n",
       "</style>\n",
       "<table border=\"1\" class=\"dataframe\">\n",
       "  <thead>\n",
       "    <tr style=\"text-align: right;\">\n",
       "      <th></th>\n",
       "      <th>user_id</th>\n",
       "      <th>book_id</th>\n",
       "      <th>rating</th>\n",
       "    </tr>\n",
       "  </thead>\n",
       "  <tbody>\n",
       "    <tr>\n",
       "      <th>0</th>\n",
       "      <td>544c5233-704a-44c3-94ce-865c84d8c09e</td>\n",
       "      <td>73f65a70-8825-5401-bcce-2313da0cc6f8</td>\n",
       "      <td>5</td>\n",
       "    </tr>\n",
       "    <tr>\n",
       "      <th>1</th>\n",
       "      <td>544c5233-704a-44c3-94ce-865c84d8c09e</td>\n",
       "      <td>e96b3e47-5a70-5a2f-b1cd-bc3ea9fcd26d</td>\n",
       "      <td>3</td>\n",
       "    </tr>\n",
       "    <tr>\n",
       "      <th>2</th>\n",
       "      <td>544c5233-704a-44c3-94ce-865c84d8c09e</td>\n",
       "      <td>d1b93763-39f1-53ab-bd43-7465188f77af</td>\n",
       "      <td>5</td>\n",
       "    </tr>\n",
       "    <tr>\n",
       "      <th>3</th>\n",
       "      <td>544c5233-704a-44c3-94ce-865c84d8c09e</td>\n",
       "      <td>9929ad23-b431-5c66-9aa4-79fed6b73eb0</td>\n",
       "      <td>3</td>\n",
       "    </tr>\n",
       "    <tr>\n",
       "      <th>4</th>\n",
       "      <td>544c5233-704a-44c3-94ce-865c84d8c09e</td>\n",
       "      <td>426177e2-8662-508b-948e-833ab428be75</td>\n",
       "      <td>5</td>\n",
       "    </tr>\n",
       "  </tbody>\n",
       "</table>\n",
       "</div>"
      ]
     },
     "execution_count": 4,
     "metadata": {},
     "output_type": "execute_result"
    }
   ],
   "execution_count": 4
  },
  {
   "metadata": {
    "ExecuteTime": {
     "end_time": "2025-08-11T19:52:36.756701Z",
     "start_time": "2025-08-11T19:52:36.727688Z"
    }
   },
   "cell_type": "code",
   "source": [
    "book_genres_df = pd.DataFrame(pg.fetchall(\"\"\"\n",
    "    SELECT bg.book_id, g.name\n",
    "    FROM library.book_genres bg\n",
    "    JOIN library.genres g ON g.id = bg.genre_id\n",
    "\"\"\"), columns=[\"book_id\", \"genre\"])\n",
    "\n",
    "book_genres_df.head()"
   ],
   "id": "d8b0dc61bf96be33",
   "outputs": [
    {
     "data": {
      "text/plain": [
       "                                book_id                   genre\n",
       "0  73f65a70-8825-5401-bcce-2313da0cc6f8         General Fiction\n",
       "1  73f65a70-8825-5401-bcce-2313da0cc6f8  Fiction and Literature\n",
       "2  73f65a70-8825-5401-bcce-2313da0cc6f8                 Mystery\n",
       "3  e940f1b3-d333-50b7-a2b6-b95603134438         General Fiction\n",
       "4  e940f1b3-d333-50b7-a2b6-b95603134438  Fiction and Literature"
      ],
      "text/html": [
       "<div>\n",
       "<style scoped>\n",
       "    .dataframe tbody tr th:only-of-type {\n",
       "        vertical-align: middle;\n",
       "    }\n",
       "\n",
       "    .dataframe tbody tr th {\n",
       "        vertical-align: top;\n",
       "    }\n",
       "\n",
       "    .dataframe thead th {\n",
       "        text-align: right;\n",
       "    }\n",
       "</style>\n",
       "<table border=\"1\" class=\"dataframe\">\n",
       "  <thead>\n",
       "    <tr style=\"text-align: right;\">\n",
       "      <th></th>\n",
       "      <th>book_id</th>\n",
       "      <th>genre</th>\n",
       "    </tr>\n",
       "  </thead>\n",
       "  <tbody>\n",
       "    <tr>\n",
       "      <th>0</th>\n",
       "      <td>73f65a70-8825-5401-bcce-2313da0cc6f8</td>\n",
       "      <td>General Fiction</td>\n",
       "    </tr>\n",
       "    <tr>\n",
       "      <th>1</th>\n",
       "      <td>73f65a70-8825-5401-bcce-2313da0cc6f8</td>\n",
       "      <td>Fiction and Literature</td>\n",
       "    </tr>\n",
       "    <tr>\n",
       "      <th>2</th>\n",
       "      <td>73f65a70-8825-5401-bcce-2313da0cc6f8</td>\n",
       "      <td>Mystery</td>\n",
       "    </tr>\n",
       "    <tr>\n",
       "      <th>3</th>\n",
       "      <td>e940f1b3-d333-50b7-a2b6-b95603134438</td>\n",
       "      <td>General Fiction</td>\n",
       "    </tr>\n",
       "    <tr>\n",
       "      <th>4</th>\n",
       "      <td>e940f1b3-d333-50b7-a2b6-b95603134438</td>\n",
       "      <td>Fiction and Literature</td>\n",
       "    </tr>\n",
       "  </tbody>\n",
       "</table>\n",
       "</div>"
      ]
     },
     "execution_count": 5,
     "metadata": {},
     "output_type": "execute_result"
    }
   ],
   "execution_count": 5
  },
  {
   "metadata": {},
   "cell_type": "markdown",
   "source": "### Content-based score",
   "id": "3a7bdf0432995faf"
  },
  {
   "metadata": {
    "ExecuteTime": {
     "end_time": "2025-08-11T19:52:36.912309Z",
     "start_time": "2025-08-11T19:52:36.852793Z"
    }
   },
   "cell_type": "code",
   "source": [
    "books_df[\"text_features\"] = (\n",
    "    books_df[\"title\"].fillna('') + \" \" +\n",
    "    books_df[\"author\"].fillna('') + \" \" +\n",
    "    books_df[\"description\"].fillna('') + \" \" +\n",
    "    books_df[\"id\"].map(lambda bid: \" \".join(book_genres_df[book_genres_df.book_id == bid][\"genre\"]))\n",
    ")\n",
    "\n",
    "tfidf = TfidfVectorizer(stop_words=\"english\", max_features=5000)\n",
    "tfidf_matrix = tfidf.fit_transform(books_df[\"text_features\"])\n",
    "content_sim = cosine_similarity(tfidf_matrix)\n",
    "\n",
    "content_scores = {\n",
    "    books_df.iloc[i][\"id\"]: dict(zip(books_df[\"id\"], content_sim[i]))\n",
    "    for i in range(len(books_df))\n",
    "}"
   ],
   "id": "51b6018f6adf24c",
   "outputs": [],
   "execution_count": 6
  },
  {
   "metadata": {},
   "cell_type": "markdown",
   "source": "### User-based score (item-item CF)",
   "id": "d327de89855e7a07"
  },
  {
   "metadata": {
    "ExecuteTime": {
     "end_time": "2025-08-11T19:52:37.053061Z",
     "start_time": "2025-08-11T19:52:36.977341Z"
    }
   },
   "cell_type": "code",
   "source": [
    "# Create pivot\n",
    "user_item = ratings_df.pivot_table(index=\"user_id\", columns=\"book_id\", values=\"rating\")\n",
    "item_item_sim = cosine_similarity(np.nan_to_num(user_item.T.fillna(0)))\n",
    "item_item_scores = {\n",
    "    col: dict(zip(user_item.columns, item_item_sim[i]))\n",
    "    for i, col in enumerate(user_item.columns)\n",
    "}"
   ],
   "id": "e5bf7b56e0530309",
   "outputs": [],
   "execution_count": 7
  },
  {
   "metadata": {},
   "cell_type": "markdown",
   "source": "### Quality-based score",
   "id": "c916c0e479cf8b18"
  },
  {
   "metadata": {
    "ExecuteTime": {
     "end_time": "2025-08-11T19:52:37.107134Z",
     "start_time": "2025-08-11T19:52:37.101992Z"
    }
   },
   "cell_type": "code",
   "source": [
    "global_avg = books_df[\"featured_rating\"].mean(skipna=True)\n",
    "k = 20\n",
    "books_df[\"featured_bayes\"] = (\n",
    "    (books_df[\"reviews_count\"].clip(upper=100) / (books_df[\"reviews_count\"].clip(upper=100) + k)) * books_df[\"featured_rating\"].fillna(global_avg) +\n",
    "    (k / (books_df[\"reviews_count\"].clip(upper=100) + k)) * global_avg\n",
    ")\n",
    "books_df[\"quality_score\"] = (\n",
    "    books_df[\"featured_bayes\"].fillna(global_avg) +\n",
    "    0.5 * books_df[\"sentiment_score\"].fillna(0) +\n",
    "    0.5 * np.log1p(books_df[\"reviews_count\"].fillna(0))\n",
    ")\n",
    "quality_scores = dict(zip(books_df[\"id\"], books_df[\"quality_score\"]))"
   ],
   "id": "541bdc65ef046c05",
   "outputs": [],
   "execution_count": 8
  },
  {
   "metadata": {},
   "cell_type": "markdown",
   "source": "### Blend scores & select top-5",
   "id": "74e4dfdb667a6bac"
  },
  {
   "metadata": {
    "ExecuteTime": {
     "end_time": "2025-08-11T19:53:05.188537Z",
     "start_time": "2025-08-11T19:53:04.925128Z"
    }
   },
   "cell_type": "code",
   "source": [
    "top5_recs = []\n",
    "for base_id in books_df[\"id\"]:\n",
    "    candidates = set(content_scores.get(base_id, {}).keys()) | set(item_item_scores.get(base_id, {}).keys())\n",
    "    candidates.discard(base_id)\n",
    "\n",
    "    blended = []\n",
    "    for cand_id in candidates:\n",
    "        s_content = content_scores.get(base_id, {}).get(cand_id, 0)\n",
    "        s_user = item_item_scores.get(base_id, {}).get(cand_id, 0)\n",
    "        s_quality = quality_scores.get(cand_id, 0)\n",
    "\n",
    "        final_score = 0.4 * s_content + 0.4 * s_user + 0.2 * s_quality\n",
    "        blended.append((cand_id, final_score))\n",
    "\n",
    "    top5 = sorted(blended, key=lambda x: x[1], reverse=True)[:5]\n",
    "    for rank, (rec_id, score) in enumerate(top5, start=1):\n",
    "        top5_recs.append((base_id, rec_id, rank, float(score), \"content+user+quality\"))"
   ],
   "id": "9e09b489da2edf6c",
   "outputs": [],
   "execution_count": 9
  },
  {
   "metadata": {},
   "cell_type": "markdown",
   "source": "### Insert into book_recs",
   "id": "2f14dc65fe0a668a"
  },
  {
   "metadata": {
    "ExecuteTime": {
     "end_time": "2025-08-11T19:53:22.731732Z",
     "start_time": "2025-08-11T19:53:22.605326Z"
    }
   },
   "cell_type": "code",
   "source": [
    "pg.execute(\"TRUNCATE library.book_recs\")\n",
    "\n",
    "pg.executemany(\"\"\"\n",
    "    INSERT INTO library.book_recs (base_book_id, rec_book_id, rank, score, reason)\n",
    "    VALUES (%s, %s, %s, %s, %s)\n",
    "\"\"\", top5_recs)\n",
    "\n",
    "print(f\"Inserted {len(top5_recs)} recommendations into book_recs.\")"
   ],
   "id": "a525748463ccf655",
   "outputs": [
    {
     "name": "stdout",
     "output_type": "stream",
     "text": [
      "Inserted 1140 recommendations into book_recs.\n"
     ]
    }
   ],
   "execution_count": 10
  },
  {
   "metadata": {},
   "cell_type": "markdown",
   "source": "---",
   "id": "3b9e395053af9bcd"
  }
 ],
 "metadata": {
  "kernelspec": {
   "display_name": "Python 3",
   "language": "python",
   "name": "python3"
  },
  "language_info": {
   "codemirror_mode": {
    "name": "ipython",
    "version": 2
   },
   "file_extension": ".py",
   "mimetype": "text/x-python",
   "name": "python",
   "nbconvert_exporter": "python",
   "pygments_lexer": "ipython2",
   "version": "2.7.6"
  }
 },
 "nbformat": 4,
 "nbformat_minor": 5
}
