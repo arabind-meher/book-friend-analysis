{
 "cells": [
  {
   "metadata": {},
   "cell_type": "markdown",
   "source": "# Migrate",
   "id": "2f102809835d9154"
  },
  {
   "cell_type": "code",
   "id": "initial_id",
   "metadata": {
    "collapsed": true,
    "ExecuteTime": {
     "end_time": "2025-08-11T19:41:37.667503Z",
     "start_time": "2025-08-11T19:41:37.284699Z"
    }
   },
   "source": [
    "import uuid\n",
    "import pandas as pd\n",
    "from db import MongoDB, PostgresDB"
   ],
   "outputs": [],
   "execution_count": 1
  },
  {
   "metadata": {
    "ExecuteTime": {
     "end_time": "2025-08-11T19:41:37.775117Z",
     "start_time": "2025-08-11T19:41:37.766543Z"
    }
   },
   "cell_type": "code",
   "source": [
    "mongo = MongoDB().connect()\n",
    "postgres = PostgresDB()"
   ],
   "id": "aded2221e30c0a1",
   "outputs": [],
   "execution_count": 2
  },
  {
   "metadata": {
    "ExecuteTime": {
     "end_time": "2025-08-11T19:41:37.844999Z",
     "start_time": "2025-08-11T19:41:37.793863Z"
    }
   },
   "cell_type": "code",
   "source": "postgres.init_db()",
   "id": "8ef3027c170d4380",
   "outputs": [
    {
     "name": "stdout",
     "output_type": "stream",
     "text": [
      "Applied schema: 001_schema.sql\n"
     ]
    }
   ],
   "execution_count": 3
  },
  {
   "metadata": {
    "ExecuteTime": {
     "end_time": "2025-08-11T19:41:37.904116Z",
     "start_time": "2025-08-11T19:41:37.851002Z"
    }
   },
   "cell_type": "code",
   "source": [
    "books = pd.DataFrame(list(mongo.get_collection('metadata_clean').find({})))\n",
    "books.head()"
   ],
   "id": "d0b2de5a420ff647",
   "outputs": [
    {
     "data": {
      "text/plain": [
       "                                    _id                        title  \\\n",
       "0  73f65a70-8825-5401-bcce-2313da0cc6f8         Crime and Punishment   \n",
       "1  e940f1b3-d333-50b7-a2b6-b95603134438  Love in the Time of Cholera   \n",
       "2  74ec4ed6-0c42-5425-86bf-51af8793a280               Mansfield Park   \n",
       "3  8368087f-946e-5eb0-b630-a614124d550f                   Siddhartha   \n",
       "4  f5c32f05-2e3c-5eac-baec-7504adf01a18          The Thirteenth Tale   \n",
       "\n",
       "                   author                                        description  \\\n",
       "0       Fyodor Dostoevsky  Fyodor Dostoevsky's Crime and Punishment is on...   \n",
       "1  Gabriel García Márquez  In their youth, Florentino Ariza and Fermina D...   \n",
       "2             Jane Austen  Mansfield Park is the study of three families-...   \n",
       "3           Hermann Hesse  Hermann Hesse wrote Siddhartha after he travel...   \n",
       "4       Diane Setterfield  When her health begins failing, the mysterious...   \n",
       "\n",
       "                                           image_url  reviews_count  rating  \\\n",
       "0  https://images-na.ssl-images-amazon.com/images...            521    4.25   \n",
       "1  https://images-na.ssl-images-amazon.com/images...            423    3.95   \n",
       "2  https://images-na.ssl-images-amazon.com/images...            373    3.84   \n",
       "3  https://images-na.ssl-images-amazon.com/images...            398    3.95   \n",
       "4  https://images-na.ssl-images-amazon.com/images...            915    3.99   \n",
       "\n",
       "                  media_type  \\\n",
       "0  [Paper, Audiobook, Ebook]   \n",
       "1  [Paper, Audiobook, Ebook]   \n",
       "2  [Paper, Audiobook, Ebook]   \n",
       "3  [Paper, Audiobook, Ebook]   \n",
       "4  [Paper, Audiobook, Ebook]   \n",
       "\n",
       "                                              genres  year  \n",
       "0  [General Fiction, Fiction and Literature, Myst...  1866  \n",
       "1  [General Fiction, Fiction and Literature, Roma...  1985  \n",
       "2  [Fiction and Literature, Romance, General Fict...  1814  \n",
       "3          [Fiction and Literature, General Fiction]  1922  \n",
       "4  [Fiction and Literature, General Fiction, Myst...  2006  "
      ],
      "text/html": [
       "<div>\n",
       "<style scoped>\n",
       "    .dataframe tbody tr th:only-of-type {\n",
       "        vertical-align: middle;\n",
       "    }\n",
       "\n",
       "    .dataframe tbody tr th {\n",
       "        vertical-align: top;\n",
       "    }\n",
       "\n",
       "    .dataframe thead th {\n",
       "        text-align: right;\n",
       "    }\n",
       "</style>\n",
       "<table border=\"1\" class=\"dataframe\">\n",
       "  <thead>\n",
       "    <tr style=\"text-align: right;\">\n",
       "      <th></th>\n",
       "      <th>_id</th>\n",
       "      <th>title</th>\n",
       "      <th>author</th>\n",
       "      <th>description</th>\n",
       "      <th>image_url</th>\n",
       "      <th>reviews_count</th>\n",
       "      <th>rating</th>\n",
       "      <th>media_type</th>\n",
       "      <th>genres</th>\n",
       "      <th>year</th>\n",
       "    </tr>\n",
       "  </thead>\n",
       "  <tbody>\n",
       "    <tr>\n",
       "      <th>0</th>\n",
       "      <td>73f65a70-8825-5401-bcce-2313da0cc6f8</td>\n",
       "      <td>Crime and Punishment</td>\n",
       "      <td>Fyodor Dostoevsky</td>\n",
       "      <td>Fyodor Dostoevsky's Crime and Punishment is on...</td>\n",
       "      <td>https://images-na.ssl-images-amazon.com/images...</td>\n",
       "      <td>521</td>\n",
       "      <td>4.25</td>\n",
       "      <td>[Paper, Audiobook, Ebook]</td>\n",
       "      <td>[General Fiction, Fiction and Literature, Myst...</td>\n",
       "      <td>1866</td>\n",
       "    </tr>\n",
       "    <tr>\n",
       "      <th>1</th>\n",
       "      <td>e940f1b3-d333-50b7-a2b6-b95603134438</td>\n",
       "      <td>Love in the Time of Cholera</td>\n",
       "      <td>Gabriel García Márquez</td>\n",
       "      <td>In their youth, Florentino Ariza and Fermina D...</td>\n",
       "      <td>https://images-na.ssl-images-amazon.com/images...</td>\n",
       "      <td>423</td>\n",
       "      <td>3.95</td>\n",
       "      <td>[Paper, Audiobook, Ebook]</td>\n",
       "      <td>[General Fiction, Fiction and Literature, Roma...</td>\n",
       "      <td>1985</td>\n",
       "    </tr>\n",
       "    <tr>\n",
       "      <th>2</th>\n",
       "      <td>74ec4ed6-0c42-5425-86bf-51af8793a280</td>\n",
       "      <td>Mansfield Park</td>\n",
       "      <td>Jane Austen</td>\n",
       "      <td>Mansfield Park is the study of three families-...</td>\n",
       "      <td>https://images-na.ssl-images-amazon.com/images...</td>\n",
       "      <td>373</td>\n",
       "      <td>3.84</td>\n",
       "      <td>[Paper, Audiobook, Ebook]</td>\n",
       "      <td>[Fiction and Literature, Romance, General Fict...</td>\n",
       "      <td>1814</td>\n",
       "    </tr>\n",
       "    <tr>\n",
       "      <th>3</th>\n",
       "      <td>8368087f-946e-5eb0-b630-a614124d550f</td>\n",
       "      <td>Siddhartha</td>\n",
       "      <td>Hermann Hesse</td>\n",
       "      <td>Hermann Hesse wrote Siddhartha after he travel...</td>\n",
       "      <td>https://images-na.ssl-images-amazon.com/images...</td>\n",
       "      <td>398</td>\n",
       "      <td>3.95</td>\n",
       "      <td>[Paper, Audiobook, Ebook]</td>\n",
       "      <td>[Fiction and Literature, General Fiction]</td>\n",
       "      <td>1922</td>\n",
       "    </tr>\n",
       "    <tr>\n",
       "      <th>4</th>\n",
       "      <td>f5c32f05-2e3c-5eac-baec-7504adf01a18</td>\n",
       "      <td>The Thirteenth Tale</td>\n",
       "      <td>Diane Setterfield</td>\n",
       "      <td>When her health begins failing, the mysterious...</td>\n",
       "      <td>https://images-na.ssl-images-amazon.com/images...</td>\n",
       "      <td>915</td>\n",
       "      <td>3.99</td>\n",
       "      <td>[Paper, Audiobook, Ebook]</td>\n",
       "      <td>[Fiction and Literature, General Fiction, Myst...</td>\n",
       "      <td>2006</td>\n",
       "    </tr>\n",
       "  </tbody>\n",
       "</table>\n",
       "</div>"
      ]
     },
     "execution_count": 4,
     "metadata": {},
     "output_type": "execute_result"
    }
   ],
   "execution_count": 4
  },
  {
   "metadata": {},
   "cell_type": "markdown",
   "source": "### Creating `genres_df` & `book_genres_df` for tables",
   "id": "86d62a6b3fa2531f"
  },
  {
   "metadata": {
    "ExecuteTime": {
     "end_time": "2025-08-11T19:41:37.953908Z",
     "start_time": "2025-08-11T19:41:37.939008Z"
    }
   },
   "cell_type": "code",
   "source": [
    "book_genre_long_df = (\n",
    "    books.loc[:, ['_id', 'genres']]\n",
    "    .explode('genres')\n",
    "    .dropna(subset=['genres'])\n",
    "    .rename(columns={'_id': 'book_id', 'genres': 'genre_name'})\n",
    ")\n",
    "\n",
    "book_genre_long_df.head()"
   ],
   "id": "b7d860f8d024b5df",
   "outputs": [
    {
     "data": {
      "text/plain": [
       "                                book_id              genre_name\n",
       "0  73f65a70-8825-5401-bcce-2313da0cc6f8         General Fiction\n",
       "0  73f65a70-8825-5401-bcce-2313da0cc6f8  Fiction and Literature\n",
       "0  73f65a70-8825-5401-bcce-2313da0cc6f8                 Mystery\n",
       "1  e940f1b3-d333-50b7-a2b6-b95603134438         General Fiction\n",
       "1  e940f1b3-d333-50b7-a2b6-b95603134438  Fiction and Literature"
      ],
      "text/html": [
       "<div>\n",
       "<style scoped>\n",
       "    .dataframe tbody tr th:only-of-type {\n",
       "        vertical-align: middle;\n",
       "    }\n",
       "\n",
       "    .dataframe tbody tr th {\n",
       "        vertical-align: top;\n",
       "    }\n",
       "\n",
       "    .dataframe thead th {\n",
       "        text-align: right;\n",
       "    }\n",
       "</style>\n",
       "<table border=\"1\" class=\"dataframe\">\n",
       "  <thead>\n",
       "    <tr style=\"text-align: right;\">\n",
       "      <th></th>\n",
       "      <th>book_id</th>\n",
       "      <th>genre_name</th>\n",
       "    </tr>\n",
       "  </thead>\n",
       "  <tbody>\n",
       "    <tr>\n",
       "      <th>0</th>\n",
       "      <td>73f65a70-8825-5401-bcce-2313da0cc6f8</td>\n",
       "      <td>General Fiction</td>\n",
       "    </tr>\n",
       "    <tr>\n",
       "      <th>0</th>\n",
       "      <td>73f65a70-8825-5401-bcce-2313da0cc6f8</td>\n",
       "      <td>Fiction and Literature</td>\n",
       "    </tr>\n",
       "    <tr>\n",
       "      <th>0</th>\n",
       "      <td>73f65a70-8825-5401-bcce-2313da0cc6f8</td>\n",
       "      <td>Mystery</td>\n",
       "    </tr>\n",
       "    <tr>\n",
       "      <th>1</th>\n",
       "      <td>e940f1b3-d333-50b7-a2b6-b95603134438</td>\n",
       "      <td>General Fiction</td>\n",
       "    </tr>\n",
       "    <tr>\n",
       "      <th>1</th>\n",
       "      <td>e940f1b3-d333-50b7-a2b6-b95603134438</td>\n",
       "      <td>Fiction and Literature</td>\n",
       "    </tr>\n",
       "  </tbody>\n",
       "</table>\n",
       "</div>"
      ]
     },
     "execution_count": 5,
     "metadata": {},
     "output_type": "execute_result"
    }
   ],
   "execution_count": 5
  },
  {
   "metadata": {
    "ExecuteTime": {
     "end_time": "2025-08-11T19:41:38.022393Z",
     "start_time": "2025-08-11T19:41:38.019Z"
    }
   },
   "cell_type": "code",
   "source": [
    "unique_genre_names = pd.Index(book_genre_long_df['genre_name'].unique()).sort_values()\n",
    "\n",
    "genre_name_to_id = {\n",
    "    genre_name: str(uuid.uuid5(uuid.NAMESPACE_DNS, genre_name))\n",
    "    for genre_name in unique_genre_names\n",
    "}"
   ],
   "id": "ceb8dd8807ac5c88",
   "outputs": [],
   "execution_count": 6
  },
  {
   "metadata": {
    "ExecuteTime": {
     "end_time": "2025-08-11T19:41:38.122410Z",
     "start_time": "2025-08-11T19:41:38.117068Z"
    }
   },
   "cell_type": "code",
   "source": [
    "genres_df = (\n",
    "    pd.DataFrame({\n",
    "        'id': [genre_name_to_id[genre_name] for genre_name in unique_genre_names],\n",
    "        'name': unique_genre_names\n",
    "    })\n",
    "    .astype({'id': 'string', 'name': 'string'})\n",
    ")\n",
    "\n",
    "genres_df.head()"
   ],
   "id": "ba606aac4a091d2b",
   "outputs": [
    {
     "data": {
      "text/plain": [
       "                                     id                name\n",
       "0  f4a0080c-b44a-51d3-aebe-42ca4056feca        Anthropology\n",
       "1  3b4382b7-35e6-5e09-a28f-6475076c62ac  Biography & Memoir\n",
       "2  b3ab2519-219a-503d-9907-67bb2946d764            Business\n",
       "3  0be4e68c-f055-54ca-89e4-16462c5999e5    Children's Books\n",
       "4  237428e6-5467-519f-9570-267b0999f71c   Christian Fiction"
      ],
      "text/html": [
       "<div>\n",
       "<style scoped>\n",
       "    .dataframe tbody tr th:only-of-type {\n",
       "        vertical-align: middle;\n",
       "    }\n",
       "\n",
       "    .dataframe tbody tr th {\n",
       "        vertical-align: top;\n",
       "    }\n",
       "\n",
       "    .dataframe thead th {\n",
       "        text-align: right;\n",
       "    }\n",
       "</style>\n",
       "<table border=\"1\" class=\"dataframe\">\n",
       "  <thead>\n",
       "    <tr style=\"text-align: right;\">\n",
       "      <th></th>\n",
       "      <th>id</th>\n",
       "      <th>name</th>\n",
       "    </tr>\n",
       "  </thead>\n",
       "  <tbody>\n",
       "    <tr>\n",
       "      <th>0</th>\n",
       "      <td>f4a0080c-b44a-51d3-aebe-42ca4056feca</td>\n",
       "      <td>Anthropology</td>\n",
       "    </tr>\n",
       "    <tr>\n",
       "      <th>1</th>\n",
       "      <td>3b4382b7-35e6-5e09-a28f-6475076c62ac</td>\n",
       "      <td>Biography &amp; Memoir</td>\n",
       "    </tr>\n",
       "    <tr>\n",
       "      <th>2</th>\n",
       "      <td>b3ab2519-219a-503d-9907-67bb2946d764</td>\n",
       "      <td>Business</td>\n",
       "    </tr>\n",
       "    <tr>\n",
       "      <th>3</th>\n",
       "      <td>0be4e68c-f055-54ca-89e4-16462c5999e5</td>\n",
       "      <td>Children's Books</td>\n",
       "    </tr>\n",
       "    <tr>\n",
       "      <th>4</th>\n",
       "      <td>237428e6-5467-519f-9570-267b0999f71c</td>\n",
       "      <td>Christian Fiction</td>\n",
       "    </tr>\n",
       "  </tbody>\n",
       "</table>\n",
       "</div>"
      ]
     },
     "execution_count": 7,
     "metadata": {},
     "output_type": "execute_result"
    }
   ],
   "execution_count": 7
  },
  {
   "metadata": {
    "ExecuteTime": {
     "end_time": "2025-08-11T19:41:38.197993Z",
     "start_time": "2025-08-11T19:41:38.189601Z"
    }
   },
   "cell_type": "code",
   "source": [
    "book_genres_df = (\n",
    "    book_genre_long_df\n",
    "    .assign(genre_id=book_genre_long_df['genre_name'].map(genre_name_to_id))\n",
    "    .loc[:, ['book_id', 'genre_id']]\n",
    "    .drop_duplicates()\n",
    "    .astype({'book_id': 'string', 'genre_id': 'string'})\n",
    ")\n",
    "\n",
    "book_genres_df.head()"
   ],
   "id": "644fd5d3105382ed",
   "outputs": [
    {
     "data": {
      "text/plain": [
       "                                book_id                              genre_id\n",
       "0  73f65a70-8825-5401-bcce-2313da0cc6f8  8bd287ce-d503-5dcc-9f04-75f239352d05\n",
       "0  73f65a70-8825-5401-bcce-2313da0cc6f8  14d90134-849d-538e-b500-d2b2c64d4a6e\n",
       "0  73f65a70-8825-5401-bcce-2313da0cc6f8  0ff929a9-a1dd-52e4-bcf6-58777381697f\n",
       "1  e940f1b3-d333-50b7-a2b6-b95603134438  8bd287ce-d503-5dcc-9f04-75f239352d05\n",
       "1  e940f1b3-d333-50b7-a2b6-b95603134438  14d90134-849d-538e-b500-d2b2c64d4a6e"
      ],
      "text/html": [
       "<div>\n",
       "<style scoped>\n",
       "    .dataframe tbody tr th:only-of-type {\n",
       "        vertical-align: middle;\n",
       "    }\n",
       "\n",
       "    .dataframe tbody tr th {\n",
       "        vertical-align: top;\n",
       "    }\n",
       "\n",
       "    .dataframe thead th {\n",
       "        text-align: right;\n",
       "    }\n",
       "</style>\n",
       "<table border=\"1\" class=\"dataframe\">\n",
       "  <thead>\n",
       "    <tr style=\"text-align: right;\">\n",
       "      <th></th>\n",
       "      <th>book_id</th>\n",
       "      <th>genre_id</th>\n",
       "    </tr>\n",
       "  </thead>\n",
       "  <tbody>\n",
       "    <tr>\n",
       "      <th>0</th>\n",
       "      <td>73f65a70-8825-5401-bcce-2313da0cc6f8</td>\n",
       "      <td>8bd287ce-d503-5dcc-9f04-75f239352d05</td>\n",
       "    </tr>\n",
       "    <tr>\n",
       "      <th>0</th>\n",
       "      <td>73f65a70-8825-5401-bcce-2313da0cc6f8</td>\n",
       "      <td>14d90134-849d-538e-b500-d2b2c64d4a6e</td>\n",
       "    </tr>\n",
       "    <tr>\n",
       "      <th>0</th>\n",
       "      <td>73f65a70-8825-5401-bcce-2313da0cc6f8</td>\n",
       "      <td>0ff929a9-a1dd-52e4-bcf6-58777381697f</td>\n",
       "    </tr>\n",
       "    <tr>\n",
       "      <th>1</th>\n",
       "      <td>e940f1b3-d333-50b7-a2b6-b95603134438</td>\n",
       "      <td>8bd287ce-d503-5dcc-9f04-75f239352d05</td>\n",
       "    </tr>\n",
       "    <tr>\n",
       "      <th>1</th>\n",
       "      <td>e940f1b3-d333-50b7-a2b6-b95603134438</td>\n",
       "      <td>14d90134-849d-538e-b500-d2b2c64d4a6e</td>\n",
       "    </tr>\n",
       "  </tbody>\n",
       "</table>\n",
       "</div>"
      ]
     },
     "execution_count": 8,
     "metadata": {},
     "output_type": "execute_result"
    }
   ],
   "execution_count": 8
  },
  {
   "metadata": {},
   "cell_type": "markdown",
   "source": "### `MediaType`",
   "id": "bca90bde2ec9a336"
  },
  {
   "metadata": {
    "ExecuteTime": {
     "end_time": "2025-08-11T19:41:38.281227Z",
     "start_time": "2025-08-11T19:41:38.275011Z"
    }
   },
   "cell_type": "code",
   "source": [
    "book_media_long_df = (\n",
    "    books.loc[:, ['_id', 'media_type']]\n",
    "    .explode('media_type')\n",
    "    .dropna(subset=['media_type'])\n",
    "    .rename(columns={'_id': 'book_id', 'media_type': 'media_type_name'})\n",
    ")\n",
    "\n",
    "book_media_long_df.head()"
   ],
   "id": "4ed28b9ed0df7971",
   "outputs": [
    {
     "data": {
      "text/plain": [
       "                                book_id media_type_name\n",
       "0  73f65a70-8825-5401-bcce-2313da0cc6f8           Paper\n",
       "0  73f65a70-8825-5401-bcce-2313da0cc6f8       Audiobook\n",
       "0  73f65a70-8825-5401-bcce-2313da0cc6f8           Ebook\n",
       "1  e940f1b3-d333-50b7-a2b6-b95603134438           Paper\n",
       "1  e940f1b3-d333-50b7-a2b6-b95603134438       Audiobook"
      ],
      "text/html": [
       "<div>\n",
       "<style scoped>\n",
       "    .dataframe tbody tr th:only-of-type {\n",
       "        vertical-align: middle;\n",
       "    }\n",
       "\n",
       "    .dataframe tbody tr th {\n",
       "        vertical-align: top;\n",
       "    }\n",
       "\n",
       "    .dataframe thead th {\n",
       "        text-align: right;\n",
       "    }\n",
       "</style>\n",
       "<table border=\"1\" class=\"dataframe\">\n",
       "  <thead>\n",
       "    <tr style=\"text-align: right;\">\n",
       "      <th></th>\n",
       "      <th>book_id</th>\n",
       "      <th>media_type_name</th>\n",
       "    </tr>\n",
       "  </thead>\n",
       "  <tbody>\n",
       "    <tr>\n",
       "      <th>0</th>\n",
       "      <td>73f65a70-8825-5401-bcce-2313da0cc6f8</td>\n",
       "      <td>Paper</td>\n",
       "    </tr>\n",
       "    <tr>\n",
       "      <th>0</th>\n",
       "      <td>73f65a70-8825-5401-bcce-2313da0cc6f8</td>\n",
       "      <td>Audiobook</td>\n",
       "    </tr>\n",
       "    <tr>\n",
       "      <th>0</th>\n",
       "      <td>73f65a70-8825-5401-bcce-2313da0cc6f8</td>\n",
       "      <td>Ebook</td>\n",
       "    </tr>\n",
       "    <tr>\n",
       "      <th>1</th>\n",
       "      <td>e940f1b3-d333-50b7-a2b6-b95603134438</td>\n",
       "      <td>Paper</td>\n",
       "    </tr>\n",
       "    <tr>\n",
       "      <th>1</th>\n",
       "      <td>e940f1b3-d333-50b7-a2b6-b95603134438</td>\n",
       "      <td>Audiobook</td>\n",
       "    </tr>\n",
       "  </tbody>\n",
       "</table>\n",
       "</div>"
      ]
     },
     "execution_count": 9,
     "metadata": {},
     "output_type": "execute_result"
    }
   ],
   "execution_count": 9
  },
  {
   "metadata": {
    "ExecuteTime": {
     "end_time": "2025-08-11T19:41:38.413817Z",
     "start_time": "2025-08-11T19:41:38.410550Z"
    }
   },
   "cell_type": "code",
   "source": [
    "unique_media_type_names = pd.Index(book_media_long_df['media_type_name'].unique()).sort_values()\n",
    "\n",
    "media_type_name_to_id = {\n",
    "    media_type_name: str(uuid.uuid5(uuid.NAMESPACE_DNS, media_type_name))\n",
    "    for media_type_name in unique_media_type_names\n",
    "}"
   ],
   "id": "411afddc66fe557c",
   "outputs": [],
   "execution_count": 10
  },
  {
   "metadata": {
    "ExecuteTime": {
     "end_time": "2025-08-11T19:41:38.501571Z",
     "start_time": "2025-08-11T19:41:38.497278Z"
    }
   },
   "cell_type": "code",
   "source": [
    "media_types_df = (\n",
    "    pd.DataFrame({\n",
    "        'id': [media_type_name_to_id[media_type_name] for media_type_name in unique_media_type_names],\n",
    "        'name': unique_media_type_names\n",
    "    })\n",
    "    .astype({'id': 'string', 'name': 'string'})\n",
    ")\n",
    "\n",
    "media_types_df.head()"
   ],
   "id": "51d30da69d9a423",
   "outputs": [
    {
     "data": {
      "text/plain": [
       "                                     id       name\n",
       "0  0f4a2fdc-ad36-5cab-9498-dbf23bfac0c8  Audiobook\n",
       "1  db70dabb-2da9-58e4-abd6-906bbc122247      Ebook\n",
       "2  069af5d9-7041-5eda-9a32-c7c0d61c420f      Paper"
      ],
      "text/html": [
       "<div>\n",
       "<style scoped>\n",
       "    .dataframe tbody tr th:only-of-type {\n",
       "        vertical-align: middle;\n",
       "    }\n",
       "\n",
       "    .dataframe tbody tr th {\n",
       "        vertical-align: top;\n",
       "    }\n",
       "\n",
       "    .dataframe thead th {\n",
       "        text-align: right;\n",
       "    }\n",
       "</style>\n",
       "<table border=\"1\" class=\"dataframe\">\n",
       "  <thead>\n",
       "    <tr style=\"text-align: right;\">\n",
       "      <th></th>\n",
       "      <th>id</th>\n",
       "      <th>name</th>\n",
       "    </tr>\n",
       "  </thead>\n",
       "  <tbody>\n",
       "    <tr>\n",
       "      <th>0</th>\n",
       "      <td>0f4a2fdc-ad36-5cab-9498-dbf23bfac0c8</td>\n",
       "      <td>Audiobook</td>\n",
       "    </tr>\n",
       "    <tr>\n",
       "      <th>1</th>\n",
       "      <td>db70dabb-2da9-58e4-abd6-906bbc122247</td>\n",
       "      <td>Ebook</td>\n",
       "    </tr>\n",
       "    <tr>\n",
       "      <th>2</th>\n",
       "      <td>069af5d9-7041-5eda-9a32-c7c0d61c420f</td>\n",
       "      <td>Paper</td>\n",
       "    </tr>\n",
       "  </tbody>\n",
       "</table>\n",
       "</div>"
      ]
     },
     "execution_count": 11,
     "metadata": {},
     "output_type": "execute_result"
    }
   ],
   "execution_count": 11
  },
  {
   "metadata": {
    "ExecuteTime": {
     "end_time": "2025-08-11T19:41:38.546550Z",
     "start_time": "2025-08-11T19:41:38.539540Z"
    }
   },
   "cell_type": "code",
   "source": [
    "book_media_types_df = (\n",
    "    book_media_long_df\n",
    "    .assign(media_type_id=book_media_long_df['media_type_name'].map(media_type_name_to_id))\n",
    "    .loc[:, ['book_id', 'media_type_id']]\n",
    "    .drop_duplicates()\n",
    "    .astype({'book_id': 'string', 'media_type_id': 'string'})\n",
    ")\n",
    "\n",
    "book_media_types_df.head()"
   ],
   "id": "1d9f2d6ec6481cf6",
   "outputs": [
    {
     "data": {
      "text/plain": [
       "                                book_id                         media_type_id\n",
       "0  73f65a70-8825-5401-bcce-2313da0cc6f8  069af5d9-7041-5eda-9a32-c7c0d61c420f\n",
       "0  73f65a70-8825-5401-bcce-2313da0cc6f8  0f4a2fdc-ad36-5cab-9498-dbf23bfac0c8\n",
       "0  73f65a70-8825-5401-bcce-2313da0cc6f8  db70dabb-2da9-58e4-abd6-906bbc122247\n",
       "1  e940f1b3-d333-50b7-a2b6-b95603134438  069af5d9-7041-5eda-9a32-c7c0d61c420f\n",
       "1  e940f1b3-d333-50b7-a2b6-b95603134438  0f4a2fdc-ad36-5cab-9498-dbf23bfac0c8"
      ],
      "text/html": [
       "<div>\n",
       "<style scoped>\n",
       "    .dataframe tbody tr th:only-of-type {\n",
       "        vertical-align: middle;\n",
       "    }\n",
       "\n",
       "    .dataframe tbody tr th {\n",
       "        vertical-align: top;\n",
       "    }\n",
       "\n",
       "    .dataframe thead th {\n",
       "        text-align: right;\n",
       "    }\n",
       "</style>\n",
       "<table border=\"1\" class=\"dataframe\">\n",
       "  <thead>\n",
       "    <tr style=\"text-align: right;\">\n",
       "      <th></th>\n",
       "      <th>book_id</th>\n",
       "      <th>media_type_id</th>\n",
       "    </tr>\n",
       "  </thead>\n",
       "  <tbody>\n",
       "    <tr>\n",
       "      <th>0</th>\n",
       "      <td>73f65a70-8825-5401-bcce-2313da0cc6f8</td>\n",
       "      <td>069af5d9-7041-5eda-9a32-c7c0d61c420f</td>\n",
       "    </tr>\n",
       "    <tr>\n",
       "      <th>0</th>\n",
       "      <td>73f65a70-8825-5401-bcce-2313da0cc6f8</td>\n",
       "      <td>0f4a2fdc-ad36-5cab-9498-dbf23bfac0c8</td>\n",
       "    </tr>\n",
       "    <tr>\n",
       "      <th>0</th>\n",
       "      <td>73f65a70-8825-5401-bcce-2313da0cc6f8</td>\n",
       "      <td>db70dabb-2da9-58e4-abd6-906bbc122247</td>\n",
       "    </tr>\n",
       "    <tr>\n",
       "      <th>1</th>\n",
       "      <td>e940f1b3-d333-50b7-a2b6-b95603134438</td>\n",
       "      <td>069af5d9-7041-5eda-9a32-c7c0d61c420f</td>\n",
       "    </tr>\n",
       "    <tr>\n",
       "      <th>1</th>\n",
       "      <td>e940f1b3-d333-50b7-a2b6-b95603134438</td>\n",
       "      <td>0f4a2fdc-ad36-5cab-9498-dbf23bfac0c8</td>\n",
       "    </tr>\n",
       "  </tbody>\n",
       "</table>\n",
       "</div>"
      ]
     },
     "execution_count": 12,
     "metadata": {},
     "output_type": "execute_result"
    }
   ],
   "execution_count": 12
  },
  {
   "metadata": {},
   "cell_type": "markdown",
   "source": "### Dropping genres & media_type",
   "id": "373545073b80bd44"
  },
  {
   "metadata": {
    "ExecuteTime": {
     "end_time": "2025-08-11T19:41:38.638095Z",
     "start_time": "2025-08-11T19:41:38.633913Z"
    }
   },
   "cell_type": "code",
   "source": "books.drop(columns=['genres', 'media_type'], inplace=True)",
   "id": "efc71ea431547dbb",
   "outputs": [],
   "execution_count": 13
  },
  {
   "metadata": {},
   "cell_type": "markdown",
   "source": "### Table: books",
   "id": "94dd3d768d9dc257"
  },
  {
   "metadata": {
    "ExecuteTime": {
     "end_time": "2025-08-11T19:41:38.734445Z",
     "start_time": "2025-08-11T19:41:38.728190Z"
    }
   },
   "cell_type": "code",
   "source": "books.head()",
   "id": "c4c51de3bffba6d3",
   "outputs": [
    {
     "data": {
      "text/plain": [
       "                                    _id                        title  \\\n",
       "0  73f65a70-8825-5401-bcce-2313da0cc6f8         Crime and Punishment   \n",
       "1  e940f1b3-d333-50b7-a2b6-b95603134438  Love in the Time of Cholera   \n",
       "2  74ec4ed6-0c42-5425-86bf-51af8793a280               Mansfield Park   \n",
       "3  8368087f-946e-5eb0-b630-a614124d550f                   Siddhartha   \n",
       "4  f5c32f05-2e3c-5eac-baec-7504adf01a18          The Thirteenth Tale   \n",
       "\n",
       "                   author                                        description  \\\n",
       "0       Fyodor Dostoevsky  Fyodor Dostoevsky's Crime and Punishment is on...   \n",
       "1  Gabriel García Márquez  In their youth, Florentino Ariza and Fermina D...   \n",
       "2             Jane Austen  Mansfield Park is the study of three families-...   \n",
       "3           Hermann Hesse  Hermann Hesse wrote Siddhartha after he travel...   \n",
       "4       Diane Setterfield  When her health begins failing, the mysterious...   \n",
       "\n",
       "                                           image_url  reviews_count  rating  \\\n",
       "0  https://images-na.ssl-images-amazon.com/images...            521    4.25   \n",
       "1  https://images-na.ssl-images-amazon.com/images...            423    3.95   \n",
       "2  https://images-na.ssl-images-amazon.com/images...            373    3.84   \n",
       "3  https://images-na.ssl-images-amazon.com/images...            398    3.95   \n",
       "4  https://images-na.ssl-images-amazon.com/images...            915    3.99   \n",
       "\n",
       "   year  \n",
       "0  1866  \n",
       "1  1985  \n",
       "2  1814  \n",
       "3  1922  \n",
       "4  2006  "
      ],
      "text/html": [
       "<div>\n",
       "<style scoped>\n",
       "    .dataframe tbody tr th:only-of-type {\n",
       "        vertical-align: middle;\n",
       "    }\n",
       "\n",
       "    .dataframe tbody tr th {\n",
       "        vertical-align: top;\n",
       "    }\n",
       "\n",
       "    .dataframe thead th {\n",
       "        text-align: right;\n",
       "    }\n",
       "</style>\n",
       "<table border=\"1\" class=\"dataframe\">\n",
       "  <thead>\n",
       "    <tr style=\"text-align: right;\">\n",
       "      <th></th>\n",
       "      <th>_id</th>\n",
       "      <th>title</th>\n",
       "      <th>author</th>\n",
       "      <th>description</th>\n",
       "      <th>image_url</th>\n",
       "      <th>reviews_count</th>\n",
       "      <th>rating</th>\n",
       "      <th>year</th>\n",
       "    </tr>\n",
       "  </thead>\n",
       "  <tbody>\n",
       "    <tr>\n",
       "      <th>0</th>\n",
       "      <td>73f65a70-8825-5401-bcce-2313da0cc6f8</td>\n",
       "      <td>Crime and Punishment</td>\n",
       "      <td>Fyodor Dostoevsky</td>\n",
       "      <td>Fyodor Dostoevsky's Crime and Punishment is on...</td>\n",
       "      <td>https://images-na.ssl-images-amazon.com/images...</td>\n",
       "      <td>521</td>\n",
       "      <td>4.25</td>\n",
       "      <td>1866</td>\n",
       "    </tr>\n",
       "    <tr>\n",
       "      <th>1</th>\n",
       "      <td>e940f1b3-d333-50b7-a2b6-b95603134438</td>\n",
       "      <td>Love in the Time of Cholera</td>\n",
       "      <td>Gabriel García Márquez</td>\n",
       "      <td>In their youth, Florentino Ariza and Fermina D...</td>\n",
       "      <td>https://images-na.ssl-images-amazon.com/images...</td>\n",
       "      <td>423</td>\n",
       "      <td>3.95</td>\n",
       "      <td>1985</td>\n",
       "    </tr>\n",
       "    <tr>\n",
       "      <th>2</th>\n",
       "      <td>74ec4ed6-0c42-5425-86bf-51af8793a280</td>\n",
       "      <td>Mansfield Park</td>\n",
       "      <td>Jane Austen</td>\n",
       "      <td>Mansfield Park is the study of three families-...</td>\n",
       "      <td>https://images-na.ssl-images-amazon.com/images...</td>\n",
       "      <td>373</td>\n",
       "      <td>3.84</td>\n",
       "      <td>1814</td>\n",
       "    </tr>\n",
       "    <tr>\n",
       "      <th>3</th>\n",
       "      <td>8368087f-946e-5eb0-b630-a614124d550f</td>\n",
       "      <td>Siddhartha</td>\n",
       "      <td>Hermann Hesse</td>\n",
       "      <td>Hermann Hesse wrote Siddhartha after he travel...</td>\n",
       "      <td>https://images-na.ssl-images-amazon.com/images...</td>\n",
       "      <td>398</td>\n",
       "      <td>3.95</td>\n",
       "      <td>1922</td>\n",
       "    </tr>\n",
       "    <tr>\n",
       "      <th>4</th>\n",
       "      <td>f5c32f05-2e3c-5eac-baec-7504adf01a18</td>\n",
       "      <td>The Thirteenth Tale</td>\n",
       "      <td>Diane Setterfield</td>\n",
       "      <td>When her health begins failing, the mysterious...</td>\n",
       "      <td>https://images-na.ssl-images-amazon.com/images...</td>\n",
       "      <td>915</td>\n",
       "      <td>3.99</td>\n",
       "      <td>2006</td>\n",
       "    </tr>\n",
       "  </tbody>\n",
       "</table>\n",
       "</div>"
      ]
     },
     "execution_count": 14,
     "metadata": {},
     "output_type": "execute_result"
    }
   ],
   "execution_count": 14
  },
  {
   "metadata": {
    "ExecuteTime": {
     "end_time": "2025-08-11T19:41:38.819788Z",
     "start_time": "2025-08-11T19:41:38.814320Z"
    }
   },
   "cell_type": "code",
   "source": [
    "books = books[\n",
    "    ['_id', 'title', 'author', 'year', 'description', 'image_url', 'reviews_count', 'rating']\n",
    "]\n",
    "\n",
    "books.head()"
   ],
   "id": "d363e59440c0b52a",
   "outputs": [
    {
     "data": {
      "text/plain": [
       "                                    _id                        title  \\\n",
       "0  73f65a70-8825-5401-bcce-2313da0cc6f8         Crime and Punishment   \n",
       "1  e940f1b3-d333-50b7-a2b6-b95603134438  Love in the Time of Cholera   \n",
       "2  74ec4ed6-0c42-5425-86bf-51af8793a280               Mansfield Park   \n",
       "3  8368087f-946e-5eb0-b630-a614124d550f                   Siddhartha   \n",
       "4  f5c32f05-2e3c-5eac-baec-7504adf01a18          The Thirteenth Tale   \n",
       "\n",
       "                   author  year  \\\n",
       "0       Fyodor Dostoevsky  1866   \n",
       "1  Gabriel García Márquez  1985   \n",
       "2             Jane Austen  1814   \n",
       "3           Hermann Hesse  1922   \n",
       "4       Diane Setterfield  2006   \n",
       "\n",
       "                                         description  \\\n",
       "0  Fyodor Dostoevsky's Crime and Punishment is on...   \n",
       "1  In their youth, Florentino Ariza and Fermina D...   \n",
       "2  Mansfield Park is the study of three families-...   \n",
       "3  Hermann Hesse wrote Siddhartha after he travel...   \n",
       "4  When her health begins failing, the mysterious...   \n",
       "\n",
       "                                           image_url  reviews_count  rating  \n",
       "0  https://images-na.ssl-images-amazon.com/images...            521    4.25  \n",
       "1  https://images-na.ssl-images-amazon.com/images...            423    3.95  \n",
       "2  https://images-na.ssl-images-amazon.com/images...            373    3.84  \n",
       "3  https://images-na.ssl-images-amazon.com/images...            398    3.95  \n",
       "4  https://images-na.ssl-images-amazon.com/images...            915    3.99  "
      ],
      "text/html": [
       "<div>\n",
       "<style scoped>\n",
       "    .dataframe tbody tr th:only-of-type {\n",
       "        vertical-align: middle;\n",
       "    }\n",
       "\n",
       "    .dataframe tbody tr th {\n",
       "        vertical-align: top;\n",
       "    }\n",
       "\n",
       "    .dataframe thead th {\n",
       "        text-align: right;\n",
       "    }\n",
       "</style>\n",
       "<table border=\"1\" class=\"dataframe\">\n",
       "  <thead>\n",
       "    <tr style=\"text-align: right;\">\n",
       "      <th></th>\n",
       "      <th>_id</th>\n",
       "      <th>title</th>\n",
       "      <th>author</th>\n",
       "      <th>year</th>\n",
       "      <th>description</th>\n",
       "      <th>image_url</th>\n",
       "      <th>reviews_count</th>\n",
       "      <th>rating</th>\n",
       "    </tr>\n",
       "  </thead>\n",
       "  <tbody>\n",
       "    <tr>\n",
       "      <th>0</th>\n",
       "      <td>73f65a70-8825-5401-bcce-2313da0cc6f8</td>\n",
       "      <td>Crime and Punishment</td>\n",
       "      <td>Fyodor Dostoevsky</td>\n",
       "      <td>1866</td>\n",
       "      <td>Fyodor Dostoevsky's Crime and Punishment is on...</td>\n",
       "      <td>https://images-na.ssl-images-amazon.com/images...</td>\n",
       "      <td>521</td>\n",
       "      <td>4.25</td>\n",
       "    </tr>\n",
       "    <tr>\n",
       "      <th>1</th>\n",
       "      <td>e940f1b3-d333-50b7-a2b6-b95603134438</td>\n",
       "      <td>Love in the Time of Cholera</td>\n",
       "      <td>Gabriel García Márquez</td>\n",
       "      <td>1985</td>\n",
       "      <td>In their youth, Florentino Ariza and Fermina D...</td>\n",
       "      <td>https://images-na.ssl-images-amazon.com/images...</td>\n",
       "      <td>423</td>\n",
       "      <td>3.95</td>\n",
       "    </tr>\n",
       "    <tr>\n",
       "      <th>2</th>\n",
       "      <td>74ec4ed6-0c42-5425-86bf-51af8793a280</td>\n",
       "      <td>Mansfield Park</td>\n",
       "      <td>Jane Austen</td>\n",
       "      <td>1814</td>\n",
       "      <td>Mansfield Park is the study of three families-...</td>\n",
       "      <td>https://images-na.ssl-images-amazon.com/images...</td>\n",
       "      <td>373</td>\n",
       "      <td>3.84</td>\n",
       "    </tr>\n",
       "    <tr>\n",
       "      <th>3</th>\n",
       "      <td>8368087f-946e-5eb0-b630-a614124d550f</td>\n",
       "      <td>Siddhartha</td>\n",
       "      <td>Hermann Hesse</td>\n",
       "      <td>1922</td>\n",
       "      <td>Hermann Hesse wrote Siddhartha after he travel...</td>\n",
       "      <td>https://images-na.ssl-images-amazon.com/images...</td>\n",
       "      <td>398</td>\n",
       "      <td>3.95</td>\n",
       "    </tr>\n",
       "    <tr>\n",
       "      <th>4</th>\n",
       "      <td>f5c32f05-2e3c-5eac-baec-7504adf01a18</td>\n",
       "      <td>The Thirteenth Tale</td>\n",
       "      <td>Diane Setterfield</td>\n",
       "      <td>2006</td>\n",
       "      <td>When her health begins failing, the mysterious...</td>\n",
       "      <td>https://images-na.ssl-images-amazon.com/images...</td>\n",
       "      <td>915</td>\n",
       "      <td>3.99</td>\n",
       "    </tr>\n",
       "  </tbody>\n",
       "</table>\n",
       "</div>"
      ]
     },
     "execution_count": 15,
     "metadata": {},
     "output_type": "execute_result"
    }
   ],
   "execution_count": 15
  },
  {
   "metadata": {
    "ExecuteTime": {
     "end_time": "2025-08-11T19:41:38.930926Z",
     "start_time": "2025-08-11T19:41:38.918415Z"
    }
   },
   "cell_type": "code",
   "source": [
    "featured_rating_df = pd.DataFrame(\n",
    "    list(mongo.get_collection('reviews_clean').find({}, {'_id': True, 'featured_rating': True})))\n",
    "featured_rating_df.head()"
   ],
   "id": "a0a284895e8d4d28",
   "outputs": [
    {
     "data": {
      "text/plain": [
       "                                    _id  featured_rating\n",
       "0  73f65a70-8825-5401-bcce-2313da0cc6f8             4.35\n",
       "1  e940f1b3-d333-50b7-a2b6-b95603134438             3.67\n",
       "2  74ec4ed6-0c42-5425-86bf-51af8793a280             3.95\n",
       "3  8368087f-946e-5eb0-b630-a614124d550f             3.85\n",
       "4  f5c32f05-2e3c-5eac-baec-7504adf01a18             4.26"
      ],
      "text/html": [
       "<div>\n",
       "<style scoped>\n",
       "    .dataframe tbody tr th:only-of-type {\n",
       "        vertical-align: middle;\n",
       "    }\n",
       "\n",
       "    .dataframe tbody tr th {\n",
       "        vertical-align: top;\n",
       "    }\n",
       "\n",
       "    .dataframe thead th {\n",
       "        text-align: right;\n",
       "    }\n",
       "</style>\n",
       "<table border=\"1\" class=\"dataframe\">\n",
       "  <thead>\n",
       "    <tr style=\"text-align: right;\">\n",
       "      <th></th>\n",
       "      <th>_id</th>\n",
       "      <th>featured_rating</th>\n",
       "    </tr>\n",
       "  </thead>\n",
       "  <tbody>\n",
       "    <tr>\n",
       "      <th>0</th>\n",
       "      <td>73f65a70-8825-5401-bcce-2313da0cc6f8</td>\n",
       "      <td>4.35</td>\n",
       "    </tr>\n",
       "    <tr>\n",
       "      <th>1</th>\n",
       "      <td>e940f1b3-d333-50b7-a2b6-b95603134438</td>\n",
       "      <td>3.67</td>\n",
       "    </tr>\n",
       "    <tr>\n",
       "      <th>2</th>\n",
       "      <td>74ec4ed6-0c42-5425-86bf-51af8793a280</td>\n",
       "      <td>3.95</td>\n",
       "    </tr>\n",
       "    <tr>\n",
       "      <th>3</th>\n",
       "      <td>8368087f-946e-5eb0-b630-a614124d550f</td>\n",
       "      <td>3.85</td>\n",
       "    </tr>\n",
       "    <tr>\n",
       "      <th>4</th>\n",
       "      <td>f5c32f05-2e3c-5eac-baec-7504adf01a18</td>\n",
       "      <td>4.26</td>\n",
       "    </tr>\n",
       "  </tbody>\n",
       "</table>\n",
       "</div>"
      ]
     },
     "execution_count": 16,
     "metadata": {},
     "output_type": "execute_result"
    }
   ],
   "execution_count": 16
  },
  {
   "metadata": {
    "ExecuteTime": {
     "end_time": "2025-08-11T19:41:39.075187Z",
     "start_time": "2025-08-11T19:41:39.068260Z"
    }
   },
   "cell_type": "code",
   "source": [
    "sentiment_scores_df = pd.DataFrame(list(mongo.get_collection('sentiment_scores').find({})))\n",
    "sentiment_scores_df['sentiment_score'] = round(sentiment_scores_df['sentiment_score'] * 5, 2)\n",
    "sentiment_scores_df.head()"
   ],
   "id": "1963401652686f86",
   "outputs": [
    {
     "data": {
      "text/plain": [
       "                                    _id  sentiment_score\n",
       "0  73f65a70-8825-5401-bcce-2313da0cc6f8             4.26\n",
       "1  e940f1b3-d333-50b7-a2b6-b95603134438             3.63\n",
       "2  74ec4ed6-0c42-5425-86bf-51af8793a280             3.73\n",
       "3  8368087f-946e-5eb0-b630-a614124d550f             3.99\n",
       "4  f5c32f05-2e3c-5eac-baec-7504adf01a18             4.69"
      ],
      "text/html": [
       "<div>\n",
       "<style scoped>\n",
       "    .dataframe tbody tr th:only-of-type {\n",
       "        vertical-align: middle;\n",
       "    }\n",
       "\n",
       "    .dataframe tbody tr th {\n",
       "        vertical-align: top;\n",
       "    }\n",
       "\n",
       "    .dataframe thead th {\n",
       "        text-align: right;\n",
       "    }\n",
       "</style>\n",
       "<table border=\"1\" class=\"dataframe\">\n",
       "  <thead>\n",
       "    <tr style=\"text-align: right;\">\n",
       "      <th></th>\n",
       "      <th>_id</th>\n",
       "      <th>sentiment_score</th>\n",
       "    </tr>\n",
       "  </thead>\n",
       "  <tbody>\n",
       "    <tr>\n",
       "      <th>0</th>\n",
       "      <td>73f65a70-8825-5401-bcce-2313da0cc6f8</td>\n",
       "      <td>4.26</td>\n",
       "    </tr>\n",
       "    <tr>\n",
       "      <th>1</th>\n",
       "      <td>e940f1b3-d333-50b7-a2b6-b95603134438</td>\n",
       "      <td>3.63</td>\n",
       "    </tr>\n",
       "    <tr>\n",
       "      <th>2</th>\n",
       "      <td>74ec4ed6-0c42-5425-86bf-51af8793a280</td>\n",
       "      <td>3.73</td>\n",
       "    </tr>\n",
       "    <tr>\n",
       "      <th>3</th>\n",
       "      <td>8368087f-946e-5eb0-b630-a614124d550f</td>\n",
       "      <td>3.99</td>\n",
       "    </tr>\n",
       "    <tr>\n",
       "      <th>4</th>\n",
       "      <td>f5c32f05-2e3c-5eac-baec-7504adf01a18</td>\n",
       "      <td>4.69</td>\n",
       "    </tr>\n",
       "  </tbody>\n",
       "</table>\n",
       "</div>"
      ]
     },
     "execution_count": 17,
     "metadata": {},
     "output_type": "execute_result"
    }
   ],
   "execution_count": 17
  },
  {
   "metadata": {
    "ExecuteTime": {
     "end_time": "2025-08-11T19:41:39.194788Z",
     "start_time": "2025-08-11T19:41:39.188326Z"
    }
   },
   "cell_type": "code",
   "source": [
    "summarized_reviews_df = pd.DataFrame(list(mongo.get_collection('summarized_reviews').find({})))\n",
    "summarized_reviews_df.head()"
   ],
   "id": "fa495866a55d184e",
   "outputs": [
    {
     "data": {
      "text/plain": [
       "                                    _id  \\\n",
       "0  73f65a70-8825-5401-bcce-2313da0cc6f8   \n",
       "1  e940f1b3-d333-50b7-a2b6-b95603134438   \n",
       "2  74ec4ed6-0c42-5425-86bf-51af8793a280   \n",
       "3  8368087f-946e-5eb0-b630-a614124d550f   \n",
       "4  f5c32f05-2e3c-5eac-baec-7504adf01a18   \n",
       "\n",
       "                                             summary  \n",
       "0  Rodian's motive remains obscured and his effor...  \n",
       "1  Venal, cowardly and physically repellent, brag...  \n",
       "2  This is one of my favourite austen novels now....  \n",
       "3  Hermann hesse's book, slaughterhouse five, is ...  \n",
       "4  The thirteenth tale is a darkly rich, many lay...  "
      ],
      "text/html": [
       "<div>\n",
       "<style scoped>\n",
       "    .dataframe tbody tr th:only-of-type {\n",
       "        vertical-align: middle;\n",
       "    }\n",
       "\n",
       "    .dataframe tbody tr th {\n",
       "        vertical-align: top;\n",
       "    }\n",
       "\n",
       "    .dataframe thead th {\n",
       "        text-align: right;\n",
       "    }\n",
       "</style>\n",
       "<table border=\"1\" class=\"dataframe\">\n",
       "  <thead>\n",
       "    <tr style=\"text-align: right;\">\n",
       "      <th></th>\n",
       "      <th>_id</th>\n",
       "      <th>summary</th>\n",
       "    </tr>\n",
       "  </thead>\n",
       "  <tbody>\n",
       "    <tr>\n",
       "      <th>0</th>\n",
       "      <td>73f65a70-8825-5401-bcce-2313da0cc6f8</td>\n",
       "      <td>Rodian's motive remains obscured and his effor...</td>\n",
       "    </tr>\n",
       "    <tr>\n",
       "      <th>1</th>\n",
       "      <td>e940f1b3-d333-50b7-a2b6-b95603134438</td>\n",
       "      <td>Venal, cowardly and physically repellent, brag...</td>\n",
       "    </tr>\n",
       "    <tr>\n",
       "      <th>2</th>\n",
       "      <td>74ec4ed6-0c42-5425-86bf-51af8793a280</td>\n",
       "      <td>This is one of my favourite austen novels now....</td>\n",
       "    </tr>\n",
       "    <tr>\n",
       "      <th>3</th>\n",
       "      <td>8368087f-946e-5eb0-b630-a614124d550f</td>\n",
       "      <td>Hermann hesse's book, slaughterhouse five, is ...</td>\n",
       "    </tr>\n",
       "    <tr>\n",
       "      <th>4</th>\n",
       "      <td>f5c32f05-2e3c-5eac-baec-7504adf01a18</td>\n",
       "      <td>The thirteenth tale is a darkly rich, many lay...</td>\n",
       "    </tr>\n",
       "  </tbody>\n",
       "</table>\n",
       "</div>"
      ]
     },
     "execution_count": 18,
     "metadata": {},
     "output_type": "execute_result"
    }
   ],
   "execution_count": 18
  },
  {
   "metadata": {
    "ExecuteTime": {
     "end_time": "2025-08-11T19:41:39.303496Z",
     "start_time": "2025-08-11T19:41:39.292992Z"
    }
   },
   "cell_type": "code",
   "source": [
    "books_df = books.merge(\n",
    "    featured_rating_df, how='inner', on='_id'\n",
    ").merge(\n",
    "    sentiment_scores_df, how='inner', on='_id'\n",
    ").merge(\n",
    "    summarized_reviews_df, how='inner', on='_id'\n",
    ")\n",
    "\n",
    "books_df.head()"
   ],
   "id": "605191337438069f",
   "outputs": [
    {
     "data": {
      "text/plain": [
       "                                    _id                        title  \\\n",
       "0  73f65a70-8825-5401-bcce-2313da0cc6f8         Crime and Punishment   \n",
       "1  e940f1b3-d333-50b7-a2b6-b95603134438  Love in the Time of Cholera   \n",
       "2  74ec4ed6-0c42-5425-86bf-51af8793a280               Mansfield Park   \n",
       "3  8368087f-946e-5eb0-b630-a614124d550f                   Siddhartha   \n",
       "4  f5c32f05-2e3c-5eac-baec-7504adf01a18          The Thirteenth Tale   \n",
       "\n",
       "                   author  year  \\\n",
       "0       Fyodor Dostoevsky  1866   \n",
       "1  Gabriel García Márquez  1985   \n",
       "2             Jane Austen  1814   \n",
       "3           Hermann Hesse  1922   \n",
       "4       Diane Setterfield  2006   \n",
       "\n",
       "                                         description  \\\n",
       "0  Fyodor Dostoevsky's Crime and Punishment is on...   \n",
       "1  In their youth, Florentino Ariza and Fermina D...   \n",
       "2  Mansfield Park is the study of three families-...   \n",
       "3  Hermann Hesse wrote Siddhartha after he travel...   \n",
       "4  When her health begins failing, the mysterious...   \n",
       "\n",
       "                                           image_url  reviews_count  rating  \\\n",
       "0  https://images-na.ssl-images-amazon.com/images...            521    4.25   \n",
       "1  https://images-na.ssl-images-amazon.com/images...            423    3.95   \n",
       "2  https://images-na.ssl-images-amazon.com/images...            373    3.84   \n",
       "3  https://images-na.ssl-images-amazon.com/images...            398    3.95   \n",
       "4  https://images-na.ssl-images-amazon.com/images...            915    3.99   \n",
       "\n",
       "   featured_rating  sentiment_score  \\\n",
       "0             4.35             4.26   \n",
       "1             3.67             3.63   \n",
       "2             3.95             3.73   \n",
       "3             3.85             3.99   \n",
       "4             4.26             4.69   \n",
       "\n",
       "                                             summary  \n",
       "0  Rodian's motive remains obscured and his effor...  \n",
       "1  Venal, cowardly and physically repellent, brag...  \n",
       "2  This is one of my favourite austen novels now....  \n",
       "3  Hermann hesse's book, slaughterhouse five, is ...  \n",
       "4  The thirteenth tale is a darkly rich, many lay...  "
      ],
      "text/html": [
       "<div>\n",
       "<style scoped>\n",
       "    .dataframe tbody tr th:only-of-type {\n",
       "        vertical-align: middle;\n",
       "    }\n",
       "\n",
       "    .dataframe tbody tr th {\n",
       "        vertical-align: top;\n",
       "    }\n",
       "\n",
       "    .dataframe thead th {\n",
       "        text-align: right;\n",
       "    }\n",
       "</style>\n",
       "<table border=\"1\" class=\"dataframe\">\n",
       "  <thead>\n",
       "    <tr style=\"text-align: right;\">\n",
       "      <th></th>\n",
       "      <th>_id</th>\n",
       "      <th>title</th>\n",
       "      <th>author</th>\n",
       "      <th>year</th>\n",
       "      <th>description</th>\n",
       "      <th>image_url</th>\n",
       "      <th>reviews_count</th>\n",
       "      <th>rating</th>\n",
       "      <th>featured_rating</th>\n",
       "      <th>sentiment_score</th>\n",
       "      <th>summary</th>\n",
       "    </tr>\n",
       "  </thead>\n",
       "  <tbody>\n",
       "    <tr>\n",
       "      <th>0</th>\n",
       "      <td>73f65a70-8825-5401-bcce-2313da0cc6f8</td>\n",
       "      <td>Crime and Punishment</td>\n",
       "      <td>Fyodor Dostoevsky</td>\n",
       "      <td>1866</td>\n",
       "      <td>Fyodor Dostoevsky's Crime and Punishment is on...</td>\n",
       "      <td>https://images-na.ssl-images-amazon.com/images...</td>\n",
       "      <td>521</td>\n",
       "      <td>4.25</td>\n",
       "      <td>4.35</td>\n",
       "      <td>4.26</td>\n",
       "      <td>Rodian's motive remains obscured and his effor...</td>\n",
       "    </tr>\n",
       "    <tr>\n",
       "      <th>1</th>\n",
       "      <td>e940f1b3-d333-50b7-a2b6-b95603134438</td>\n",
       "      <td>Love in the Time of Cholera</td>\n",
       "      <td>Gabriel García Márquez</td>\n",
       "      <td>1985</td>\n",
       "      <td>In their youth, Florentino Ariza and Fermina D...</td>\n",
       "      <td>https://images-na.ssl-images-amazon.com/images...</td>\n",
       "      <td>423</td>\n",
       "      <td>3.95</td>\n",
       "      <td>3.67</td>\n",
       "      <td>3.63</td>\n",
       "      <td>Venal, cowardly and physically repellent, brag...</td>\n",
       "    </tr>\n",
       "    <tr>\n",
       "      <th>2</th>\n",
       "      <td>74ec4ed6-0c42-5425-86bf-51af8793a280</td>\n",
       "      <td>Mansfield Park</td>\n",
       "      <td>Jane Austen</td>\n",
       "      <td>1814</td>\n",
       "      <td>Mansfield Park is the study of three families-...</td>\n",
       "      <td>https://images-na.ssl-images-amazon.com/images...</td>\n",
       "      <td>373</td>\n",
       "      <td>3.84</td>\n",
       "      <td>3.95</td>\n",
       "      <td>3.73</td>\n",
       "      <td>This is one of my favourite austen novels now....</td>\n",
       "    </tr>\n",
       "    <tr>\n",
       "      <th>3</th>\n",
       "      <td>8368087f-946e-5eb0-b630-a614124d550f</td>\n",
       "      <td>Siddhartha</td>\n",
       "      <td>Hermann Hesse</td>\n",
       "      <td>1922</td>\n",
       "      <td>Hermann Hesse wrote Siddhartha after he travel...</td>\n",
       "      <td>https://images-na.ssl-images-amazon.com/images...</td>\n",
       "      <td>398</td>\n",
       "      <td>3.95</td>\n",
       "      <td>3.85</td>\n",
       "      <td>3.99</td>\n",
       "      <td>Hermann hesse's book, slaughterhouse five, is ...</td>\n",
       "    </tr>\n",
       "    <tr>\n",
       "      <th>4</th>\n",
       "      <td>f5c32f05-2e3c-5eac-baec-7504adf01a18</td>\n",
       "      <td>The Thirteenth Tale</td>\n",
       "      <td>Diane Setterfield</td>\n",
       "      <td>2006</td>\n",
       "      <td>When her health begins failing, the mysterious...</td>\n",
       "      <td>https://images-na.ssl-images-amazon.com/images...</td>\n",
       "      <td>915</td>\n",
       "      <td>3.99</td>\n",
       "      <td>4.26</td>\n",
       "      <td>4.69</td>\n",
       "      <td>The thirteenth tale is a darkly rich, many lay...</td>\n",
       "    </tr>\n",
       "  </tbody>\n",
       "</table>\n",
       "</div>"
      ]
     },
     "execution_count": 19,
     "metadata": {},
     "output_type": "execute_result"
    }
   ],
   "execution_count": 19
  },
  {
   "metadata": {},
   "cell_type": "markdown",
   "source": "### Users",
   "id": "5ac037f83555d9d8"
  },
  {
   "metadata": {
    "ExecuteTime": {
     "end_time": "2025-08-11T19:41:39.422758Z",
     "start_time": "2025-08-11T19:41:39.387111Z"
    }
   },
   "cell_type": "code",
   "source": [
    "users_rating_df = pd.DataFrame(list(mongo.get_collection('users_rating').find({})))\n",
    "users_rating_df.head()"
   ],
   "id": "6595bb195253be4",
   "outputs": [
    {
     "data": {
      "text/plain": [
       "                        _id                               user_id  \\\n",
       "0  6898dcc048b31c8bc41a55ed  544c5233-704a-44c3-94ce-865c84d8c09e   \n",
       "1  6898dcc148b31c8bc41a55ee  ccac2163-4237-4e2f-97ca-d0fcc60bf38f   \n",
       "2  6898dcc148b31c8bc41a55ef  1a8c4728-2dc8-4723-8ed0-812a320132c0   \n",
       "3  6898dcc148b31c8bc41a55f0  4db389b1-150d-4ab5-84aa-75556210f26e   \n",
       "4  6898dcc148b31c8bc41a55f1  b0d2df12-c24c-4768-8f60-b958731339e0   \n",
       "\n",
       "          username                                            ratings  \n",
       "0  Mahdi.Lotfabadi  [{'book_id': '73f65a70-8825-5401-bcce-2313da0c...  \n",
       "1           Cecrow  [{'book_id': '73f65a70-8825-5401-bcce-2313da0c...  \n",
       "2       missizicks  [{'book_id': '73f65a70-8825-5401-bcce-2313da0c...  \n",
       "3     MichaelBarsa  [{'book_id': '73f65a70-8825-5401-bcce-2313da0c...  \n",
       "4      featherbear  [{'book_id': '73f65a70-8825-5401-bcce-2313da0c...  "
      ],
      "text/html": [
       "<div>\n",
       "<style scoped>\n",
       "    .dataframe tbody tr th:only-of-type {\n",
       "        vertical-align: middle;\n",
       "    }\n",
       "\n",
       "    .dataframe tbody tr th {\n",
       "        vertical-align: top;\n",
       "    }\n",
       "\n",
       "    .dataframe thead th {\n",
       "        text-align: right;\n",
       "    }\n",
       "</style>\n",
       "<table border=\"1\" class=\"dataframe\">\n",
       "  <thead>\n",
       "    <tr style=\"text-align: right;\">\n",
       "      <th></th>\n",
       "      <th>_id</th>\n",
       "      <th>user_id</th>\n",
       "      <th>username</th>\n",
       "      <th>ratings</th>\n",
       "    </tr>\n",
       "  </thead>\n",
       "  <tbody>\n",
       "    <tr>\n",
       "      <th>0</th>\n",
       "      <td>6898dcc048b31c8bc41a55ed</td>\n",
       "      <td>544c5233-704a-44c3-94ce-865c84d8c09e</td>\n",
       "      <td>Mahdi.Lotfabadi</td>\n",
       "      <td>[{'book_id': '73f65a70-8825-5401-bcce-2313da0c...</td>\n",
       "    </tr>\n",
       "    <tr>\n",
       "      <th>1</th>\n",
       "      <td>6898dcc148b31c8bc41a55ee</td>\n",
       "      <td>ccac2163-4237-4e2f-97ca-d0fcc60bf38f</td>\n",
       "      <td>Cecrow</td>\n",
       "      <td>[{'book_id': '73f65a70-8825-5401-bcce-2313da0c...</td>\n",
       "    </tr>\n",
       "    <tr>\n",
       "      <th>2</th>\n",
       "      <td>6898dcc148b31c8bc41a55ef</td>\n",
       "      <td>1a8c4728-2dc8-4723-8ed0-812a320132c0</td>\n",
       "      <td>missizicks</td>\n",
       "      <td>[{'book_id': '73f65a70-8825-5401-bcce-2313da0c...</td>\n",
       "    </tr>\n",
       "    <tr>\n",
       "      <th>3</th>\n",
       "      <td>6898dcc148b31c8bc41a55f0</td>\n",
       "      <td>4db389b1-150d-4ab5-84aa-75556210f26e</td>\n",
       "      <td>MichaelBarsa</td>\n",
       "      <td>[{'book_id': '73f65a70-8825-5401-bcce-2313da0c...</td>\n",
       "    </tr>\n",
       "    <tr>\n",
       "      <th>4</th>\n",
       "      <td>6898dcc148b31c8bc41a55f1</td>\n",
       "      <td>b0d2df12-c24c-4768-8f60-b958731339e0</td>\n",
       "      <td>featherbear</td>\n",
       "      <td>[{'book_id': '73f65a70-8825-5401-bcce-2313da0c...</td>\n",
       "    </tr>\n",
       "  </tbody>\n",
       "</table>\n",
       "</div>"
      ]
     },
     "execution_count": 20,
     "metadata": {},
     "output_type": "execute_result"
    }
   ],
   "execution_count": 20
  },
  {
   "metadata": {
    "ExecuteTime": {
     "end_time": "2025-08-11T19:41:39.517070Z",
     "start_time": "2025-08-11T19:41:39.510838Z"
    }
   },
   "cell_type": "code",
   "source": [
    "users_df = (\n",
    "    users_rating_df[['user_id', 'username']]\n",
    "    .rename(columns={'user_id': 'id'})\n",
    "    .drop_duplicates(subset=['id'])\n",
    "    .astype({'id': 'string', 'username': 'string'})\n",
    ")\n",
    "\n",
    "users_df.head()"
   ],
   "id": "1562226ac0ab70e",
   "outputs": [
    {
     "data": {
      "text/plain": [
       "                                     id         username\n",
       "0  544c5233-704a-44c3-94ce-865c84d8c09e  Mahdi.Lotfabadi\n",
       "1  ccac2163-4237-4e2f-97ca-d0fcc60bf38f           Cecrow\n",
       "2  1a8c4728-2dc8-4723-8ed0-812a320132c0       missizicks\n",
       "3  4db389b1-150d-4ab5-84aa-75556210f26e     MichaelBarsa\n",
       "4  b0d2df12-c24c-4768-8f60-b958731339e0      featherbear"
      ],
      "text/html": [
       "<div>\n",
       "<style scoped>\n",
       "    .dataframe tbody tr th:only-of-type {\n",
       "        vertical-align: middle;\n",
       "    }\n",
       "\n",
       "    .dataframe tbody tr th {\n",
       "        vertical-align: top;\n",
       "    }\n",
       "\n",
       "    .dataframe thead th {\n",
       "        text-align: right;\n",
       "    }\n",
       "</style>\n",
       "<table border=\"1\" class=\"dataframe\">\n",
       "  <thead>\n",
       "    <tr style=\"text-align: right;\">\n",
       "      <th></th>\n",
       "      <th>id</th>\n",
       "      <th>username</th>\n",
       "    </tr>\n",
       "  </thead>\n",
       "  <tbody>\n",
       "    <tr>\n",
       "      <th>0</th>\n",
       "      <td>544c5233-704a-44c3-94ce-865c84d8c09e</td>\n",
       "      <td>Mahdi.Lotfabadi</td>\n",
       "    </tr>\n",
       "    <tr>\n",
       "      <th>1</th>\n",
       "      <td>ccac2163-4237-4e2f-97ca-d0fcc60bf38f</td>\n",
       "      <td>Cecrow</td>\n",
       "    </tr>\n",
       "    <tr>\n",
       "      <th>2</th>\n",
       "      <td>1a8c4728-2dc8-4723-8ed0-812a320132c0</td>\n",
       "      <td>missizicks</td>\n",
       "    </tr>\n",
       "    <tr>\n",
       "      <th>3</th>\n",
       "      <td>4db389b1-150d-4ab5-84aa-75556210f26e</td>\n",
       "      <td>MichaelBarsa</td>\n",
       "    </tr>\n",
       "    <tr>\n",
       "      <th>4</th>\n",
       "      <td>b0d2df12-c24c-4768-8f60-b958731339e0</td>\n",
       "      <td>featherbear</td>\n",
       "    </tr>\n",
       "  </tbody>\n",
       "</table>\n",
       "</div>"
      ]
     },
     "execution_count": 21,
     "metadata": {},
     "output_type": "execute_result"
    }
   ],
   "execution_count": 21
  },
  {
   "metadata": {
    "ExecuteTime": {
     "end_time": "2025-08-11T19:41:39.667428Z",
     "start_time": "2025-08-11T19:41:39.656475Z"
    }
   },
   "cell_type": "code",
   "source": [
    "ratings_long_df = (\n",
    "    users_rating_df[['user_id', 'ratings']]\n",
    "    .explode('ratings')\n",
    "    .dropna(subset=['ratings'])\n",
    "    .reset_index(drop=True)  # <- align index\n",
    ")\n",
    "\n",
    "ratings_long_df.head()"
   ],
   "id": "91164e015be30e60",
   "outputs": [
    {
     "data": {
      "text/plain": [
       "                                user_id  \\\n",
       "0  544c5233-704a-44c3-94ce-865c84d8c09e   \n",
       "1  544c5233-704a-44c3-94ce-865c84d8c09e   \n",
       "2  544c5233-704a-44c3-94ce-865c84d8c09e   \n",
       "3  544c5233-704a-44c3-94ce-865c84d8c09e   \n",
       "4  544c5233-704a-44c3-94ce-865c84d8c09e   \n",
       "\n",
       "                                             ratings  \n",
       "0  {'book_id': '73f65a70-8825-5401-bcce-2313da0cc...  \n",
       "1  {'book_id': 'e96b3e47-5a70-5a2f-b1cd-bc3ea9fcd...  \n",
       "2  {'book_id': 'd1b93763-39f1-53ab-bd43-7465188f7...  \n",
       "3  {'book_id': '9929ad23-b431-5c66-9aa4-79fed6b73...  \n",
       "4  {'book_id': '426177e2-8662-508b-948e-833ab428b...  "
      ],
      "text/html": [
       "<div>\n",
       "<style scoped>\n",
       "    .dataframe tbody tr th:only-of-type {\n",
       "        vertical-align: middle;\n",
       "    }\n",
       "\n",
       "    .dataframe tbody tr th {\n",
       "        vertical-align: top;\n",
       "    }\n",
       "\n",
       "    .dataframe thead th {\n",
       "        text-align: right;\n",
       "    }\n",
       "</style>\n",
       "<table border=\"1\" class=\"dataframe\">\n",
       "  <thead>\n",
       "    <tr style=\"text-align: right;\">\n",
       "      <th></th>\n",
       "      <th>user_id</th>\n",
       "      <th>ratings</th>\n",
       "    </tr>\n",
       "  </thead>\n",
       "  <tbody>\n",
       "    <tr>\n",
       "      <th>0</th>\n",
       "      <td>544c5233-704a-44c3-94ce-865c84d8c09e</td>\n",
       "      <td>{'book_id': '73f65a70-8825-5401-bcce-2313da0cc...</td>\n",
       "    </tr>\n",
       "    <tr>\n",
       "      <th>1</th>\n",
       "      <td>544c5233-704a-44c3-94ce-865c84d8c09e</td>\n",
       "      <td>{'book_id': 'e96b3e47-5a70-5a2f-b1cd-bc3ea9fcd...</td>\n",
       "    </tr>\n",
       "    <tr>\n",
       "      <th>2</th>\n",
       "      <td>544c5233-704a-44c3-94ce-865c84d8c09e</td>\n",
       "      <td>{'book_id': 'd1b93763-39f1-53ab-bd43-7465188f7...</td>\n",
       "    </tr>\n",
       "    <tr>\n",
       "      <th>3</th>\n",
       "      <td>544c5233-704a-44c3-94ce-865c84d8c09e</td>\n",
       "      <td>{'book_id': '9929ad23-b431-5c66-9aa4-79fed6b73...</td>\n",
       "    </tr>\n",
       "    <tr>\n",
       "      <th>4</th>\n",
       "      <td>544c5233-704a-44c3-94ce-865c84d8c09e</td>\n",
       "      <td>{'book_id': '426177e2-8662-508b-948e-833ab428b...</td>\n",
       "    </tr>\n",
       "  </tbody>\n",
       "</table>\n",
       "</div>"
      ]
     },
     "execution_count": 22,
     "metadata": {},
     "output_type": "execute_result"
    }
   ],
   "execution_count": 22
  },
  {
   "metadata": {
    "ExecuteTime": {
     "end_time": "2025-08-11T19:41:39.778903Z",
     "start_time": "2025-08-11T19:41:39.766325Z"
    }
   },
   "cell_type": "code",
   "source": [
    "ratings_inner = pd.DataFrame(ratings_long_df['ratings'].tolist())\n",
    "\n",
    "ratings_df = (\n",
    "    pd.concat([ratings_long_df[['user_id']], ratings_inner], axis=1)\n",
    "      [['user_id', 'book_id', 'rating']]\n",
    "      .dropna(subset=['book_id', 'rating'])\n",
    ")\n",
    "ratings_df['rating'] = ratings_df['rating'].astype('int16')\n",
    "\n",
    "ratings_df.head()"
   ],
   "id": "f63b9c2abb207ca3",
   "outputs": [
    {
     "data": {
      "text/plain": [
       "                                user_id                               book_id  \\\n",
       "0  544c5233-704a-44c3-94ce-865c84d8c09e  73f65a70-8825-5401-bcce-2313da0cc6f8   \n",
       "1  544c5233-704a-44c3-94ce-865c84d8c09e  e96b3e47-5a70-5a2f-b1cd-bc3ea9fcd26d   \n",
       "2  544c5233-704a-44c3-94ce-865c84d8c09e  d1b93763-39f1-53ab-bd43-7465188f77af   \n",
       "3  544c5233-704a-44c3-94ce-865c84d8c09e  9929ad23-b431-5c66-9aa4-79fed6b73eb0   \n",
       "4  544c5233-704a-44c3-94ce-865c84d8c09e  426177e2-8662-508b-948e-833ab428be75   \n",
       "\n",
       "   rating  \n",
       "0       5  \n",
       "1       3  \n",
       "2       5  \n",
       "3       3  \n",
       "4       5  "
      ],
      "text/html": [
       "<div>\n",
       "<style scoped>\n",
       "    .dataframe tbody tr th:only-of-type {\n",
       "        vertical-align: middle;\n",
       "    }\n",
       "\n",
       "    .dataframe tbody tr th {\n",
       "        vertical-align: top;\n",
       "    }\n",
       "\n",
       "    .dataframe thead th {\n",
       "        text-align: right;\n",
       "    }\n",
       "</style>\n",
       "<table border=\"1\" class=\"dataframe\">\n",
       "  <thead>\n",
       "    <tr style=\"text-align: right;\">\n",
       "      <th></th>\n",
       "      <th>user_id</th>\n",
       "      <th>book_id</th>\n",
       "      <th>rating</th>\n",
       "    </tr>\n",
       "  </thead>\n",
       "  <tbody>\n",
       "    <tr>\n",
       "      <th>0</th>\n",
       "      <td>544c5233-704a-44c3-94ce-865c84d8c09e</td>\n",
       "      <td>73f65a70-8825-5401-bcce-2313da0cc6f8</td>\n",
       "      <td>5</td>\n",
       "    </tr>\n",
       "    <tr>\n",
       "      <th>1</th>\n",
       "      <td>544c5233-704a-44c3-94ce-865c84d8c09e</td>\n",
       "      <td>e96b3e47-5a70-5a2f-b1cd-bc3ea9fcd26d</td>\n",
       "      <td>3</td>\n",
       "    </tr>\n",
       "    <tr>\n",
       "      <th>2</th>\n",
       "      <td>544c5233-704a-44c3-94ce-865c84d8c09e</td>\n",
       "      <td>d1b93763-39f1-53ab-bd43-7465188f77af</td>\n",
       "      <td>5</td>\n",
       "    </tr>\n",
       "    <tr>\n",
       "      <th>3</th>\n",
       "      <td>544c5233-704a-44c3-94ce-865c84d8c09e</td>\n",
       "      <td>9929ad23-b431-5c66-9aa4-79fed6b73eb0</td>\n",
       "      <td>3</td>\n",
       "    </tr>\n",
       "    <tr>\n",
       "      <th>4</th>\n",
       "      <td>544c5233-704a-44c3-94ce-865c84d8c09e</td>\n",
       "      <td>426177e2-8662-508b-948e-833ab428be75</td>\n",
       "      <td>5</td>\n",
       "    </tr>\n",
       "  </tbody>\n",
       "</table>\n",
       "</div>"
      ]
     },
     "execution_count": 23,
     "metadata": {},
     "output_type": "execute_result"
    }
   ],
   "execution_count": 23
  },
  {
   "metadata": {},
   "cell_type": "markdown",
   "source": "### Upload to postgres db",
   "id": "116709eb3537323"
  },
  {
   "metadata": {
    "ExecuteTime": {
     "end_time": "2025-08-11T19:41:39.881821Z",
     "start_time": "2025-08-11T19:41:39.878835Z"
    }
   },
   "cell_type": "code",
   "source": [
    "def load_table(df, cols, sql):\n",
    "    \"\"\"Exec a parameterized INSERT for df[cols] using executemany.\"\"\"\n",
    "    if df.empty:\n",
    "        print(\"skip (empty):\", sql.split()[2])\n",
    "        return\n",
    "    rows = list(df[cols].itertuples(index=False, name=None))\n",
    "    postgres.executemany(sql, rows)\n",
    "    print(f\"inserted {len(rows)} rows into {sql.split()[2]}\")"
   ],
   "id": "efc3e054a4754fe8",
   "outputs": [],
   "execution_count": 24
  },
  {
   "metadata": {
    "ExecuteTime": {
     "end_time": "2025-08-11T19:41:40.342638Z",
     "start_time": "2025-08-11T19:41:39.954623Z"
    }
   },
   "cell_type": "code",
   "source": [
    "# ---------- 1) users ----------\n",
    "# users_df columns: ['id','username']\n",
    "load_table(\n",
    "    users_df,\n",
    "    ['id','username'],\n",
    "    \"\"\"\n",
    "    INSERT INTO library.users (id, username)\n",
    "    VALUES (%s, %s)\n",
    "    ON CONFLICT (id) DO NOTHING\n",
    "    \"\"\"\n",
    ")"
   ],
   "id": "77af6fba43d9b82f",
   "outputs": [
    {
     "name": "stdout",
     "output_type": "stream",
     "text": [
      "inserted 7381 rows into library.users\n"
     ]
    }
   ],
   "execution_count": 25
  },
  {
   "metadata": {
    "ExecuteTime": {
     "end_time": "2025-08-11T19:41:40.419502Z",
     "start_time": "2025-08-11T19:41:40.370768Z"
    }
   },
   "cell_type": "code",
   "source": [
    "# ---------- 2) books ----------\n",
    "# books_df columns (in this order):\n",
    "# ['_id','title','author','year','description','image_url','reviews_count', 'rating','featured_rating','sentiment_score','summary']\n",
    "load_table(\n",
    "    books_df,\n",
    "    ['_id','title','author','year','description','image_url',\n",
    "     'reviews_count','rating','featured_rating','sentiment_score','summary'],\n",
    "    \"\"\"\n",
    "    INSERT INTO library.books (\n",
    "        id, title, author, \"year\", description, image_url, reviews_count,\n",
    "        rating, featured_rating, sentiment_score, summary\n",
    "    )\n",
    "    VALUES (%s,%s,%s,%s,%s,%s,%s,%s,%s,%s,%s)\n",
    "    ON CONFLICT (id) DO NOTHING\n",
    "    \"\"\"\n",
    ")"
   ],
   "id": "14449cd7d0880027",
   "outputs": [
    {
     "name": "stdout",
     "output_type": "stream",
     "text": [
      "inserted 228 rows into library.books\n"
     ]
    }
   ],
   "execution_count": 26
  },
  {
   "metadata": {
    "ExecuteTime": {
     "end_time": "2025-08-11T19:41:40.463885Z",
     "start_time": "2025-08-11T19:41:40.435881Z"
    }
   },
   "cell_type": "code",
   "source": [
    "# ---------- 3) genres ----------\n",
    "# genres_df columns: ['id','name']\n",
    "load_table(\n",
    "    genres_df,\n",
    "    ['id','name'],\n",
    "    \"\"\"\n",
    "    INSERT INTO library.genres (id, name)\n",
    "    VALUES (%s, %s)\n",
    "    ON CONFLICT (id) DO NOTHING\n",
    "    \"\"\"\n",
    ")"
   ],
   "id": "377d3ee7f479fc7e",
   "outputs": [
    {
     "name": "stdout",
     "output_type": "stream",
     "text": [
      "inserted 31 rows into library.genres\n"
     ]
    }
   ],
   "execution_count": 27
  },
  {
   "metadata": {
    "ExecuteTime": {
     "end_time": "2025-08-11T19:41:40.518492Z",
     "start_time": "2025-08-11T19:41:40.493333Z"
    }
   },
   "cell_type": "code",
   "source": [
    "# ---------- 4) media_types ----------\n",
    "# media_types_df columns: ['id','name']\n",
    "load_table(\n",
    "    media_types_df,\n",
    "    ['id','name'],\n",
    "    \"\"\"\n",
    "    INSERT INTO library.media_types (id, name)\n",
    "    VALUES (%s, %s)\n",
    "    ON CONFLICT (id) DO NOTHING\n",
    "    \"\"\"\n",
    ")"
   ],
   "id": "68ec3508dcd2ff1a",
   "outputs": [
    {
     "name": "stdout",
     "output_type": "stream",
     "text": [
      "inserted 3 rows into library.media_types\n"
     ]
    }
   ],
   "execution_count": 28
  },
  {
   "metadata": {
    "ExecuteTime": {
     "end_time": "2025-08-11T19:41:40.611856Z",
     "start_time": "2025-08-11T19:41:40.535396Z"
    }
   },
   "cell_type": "code",
   "source": [
    "# ---------- 5) book_genres (M:N) ----------\n",
    "# book_genres_df columns: ['book_id','genre_id']\n",
    "load_table(\n",
    "    book_genres_df,\n",
    "    ['book_id','genre_id'],\n",
    "    \"\"\"\n",
    "    INSERT INTO library.book_genres (book_id, genre_id)\n",
    "    VALUES (%s, %s)\n",
    "    ON CONFLICT (book_id, genre_id) DO NOTHING\n",
    "    \"\"\"\n",
    ")"
   ],
   "id": "823fe1cc93d3d574",
   "outputs": [
    {
     "name": "stdout",
     "output_type": "stream",
     "text": [
      "inserted 704 rows into library.book_genres\n"
     ]
    }
   ],
   "execution_count": 29
  },
  {
   "metadata": {
    "ExecuteTime": {
     "end_time": "2025-08-11T19:41:40.694193Z",
     "start_time": "2025-08-11T19:41:40.628173Z"
    }
   },
   "cell_type": "code",
   "source": [
    "# ---------- 6) book_media_types (M:N) ----------\n",
    "# book_media_types_df columns: ['book_id','media_type_id']\n",
    "load_table(\n",
    "    book_media_types_df,\n",
    "    ['book_id','media_type_id'],\n",
    "    \"\"\"\n",
    "    INSERT INTO library.book_media_types (book_id, media_type_id)\n",
    "    VALUES (%s, %s)\n",
    "    ON CONFLICT (book_id, media_type_id) DO NOTHING\n",
    "    \"\"\"\n",
    ")"
   ],
   "id": "b5801e46f91749d",
   "outputs": [
    {
     "name": "stdout",
     "output_type": "stream",
     "text": [
      "inserted 684 rows into library.book_media_types\n"
     ]
    }
   ],
   "execution_count": 30
  },
  {
   "metadata": {
    "ExecuteTime": {
     "end_time": "2025-08-11T19:41:42.104377Z",
     "start_time": "2025-08-11T19:41:40.710370Z"
    }
   },
   "cell_type": "code",
   "source": [
    "# ---------- 7) ratings ----------\n",
    "# ratings_df columns: ['user_id','book_id','rating']\n",
    "# (ensure rating is int 1..5 before load)\n",
    "ratings_df['rating'] = ratings_df['rating'].astype('int16')\n",
    "load_table(\n",
    "    ratings_df,\n",
    "    ['user_id','book_id','rating'],\n",
    "    \"\"\"\n",
    "    INSERT INTO library.rating (user_id, book_id, rating)\n",
    "    VALUES (%s, %s, %s)\n",
    "    ON CONFLICT (user_id, book_id) DO NOTHING\n",
    "    \"\"\"\n",
    ")"
   ],
   "id": "7026477422a726b9",
   "outputs": [
    {
     "name": "stdout",
     "output_type": "stream",
     "text": [
      "inserted 21634 rows into library.rating\n"
     ]
    }
   ],
   "execution_count": 31
  },
  {
   "metadata": {},
   "cell_type": "markdown",
   "source": "---",
   "id": "ca066111fca70785"
  }
 ],
 "metadata": {
  "kernelspec": {
   "display_name": "Python 3",
   "language": "python",
   "name": "python3"
  },
  "language_info": {
   "codemirror_mode": {
    "name": "ipython",
    "version": 2
   },
   "file_extension": ".py",
   "mimetype": "text/x-python",
   "name": "python",
   "nbconvert_exporter": "python",
   "pygments_lexer": "ipython2",
   "version": "2.7.6"
  }
 },
 "nbformat": 4,
 "nbformat_minor": 5
}
